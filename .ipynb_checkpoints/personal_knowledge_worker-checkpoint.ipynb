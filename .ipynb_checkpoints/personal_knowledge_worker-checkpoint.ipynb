{
 "cells": [
  {
   "cell_type": "markdown",
   "id": "cffd7345-8283-4dce-a0c2-f36722ebb4dc",
   "metadata": {},
   "source": [
    "# Personal Knowledge Worker"
   ]
  },
  {
   "cell_type": "markdown",
   "id": "ec0d0498-9d4e-41f0-925a-f8594d528721",
   "metadata": {},
   "source": [
    "## An assistant capable of answering all questions concerning me."
   ]
  },
  {
   "cell_type": "markdown",
   "id": "df127084-4fe9-40a6-bc5b-cefa2ed770bf",
   "metadata": {},
   "source": [
    "We will use **Gradio** at the end to implement it in a user interface facilitating faster communication. We will also use the LangChain function to go quickly. \\\n",
    "This project will use RAG (Retrieval Augmented Generation) to ensure our question/answering assistant has high accuracy."
   ]
  },
  {
   "cell_type": "markdown",
   "id": "a4ef7d64-5032-4819-86da-8665719905bc",
   "metadata": {},
   "source": [
    "Before we begin, let's talk a little about RAG and Embedding.\n",
    "\n",
    "## Embedding\n",
    "Embedding is a technique that transforms semantic information into a format that machine learning models can exploit for different tasks. So, let’s explore the steps before that? First, we distinguish the tokenization of texts, which involves breaking the text into units (usually words or subwords). Next, we proceed with the removal of the most commonly used words, called 'stop words', e.g., of, the, .... Finally, we have lemmatization, which aims to bring each word back to its canonical form. Large Language Models use 'Vector Embeddings', which is an encoding of texts into a vector of numbers. These vectors reflect the meaning of the words or groups of words they represent. To implement this technique, we will use the Auto-Encoding LLM: OpenAIEmbeddings() used with LangChain. However, there is also BERT from Google that can be used.\n",
    "\n",
    "<table style=\"margin: 0; text-align: left;\">\n",
    "    <tr>\n",
    "        <td style=\"width: 500px; height: 500px; vertical-align: middle;\">\n",
    "            <img src=\"../RAG.png\" width=\"500\" height=\"500\" style=\"display: block;\" />\n",
    "        </td>\n",
    "        <td>\n",
    "            <h2 >RAG (Retrieval Augmented Generation) </h2>\n",
    "            <span>\n",
    "                As indicated by the name, it is a technique that allows for retrieving relevant information to effectively respond to user requests. Indeed, when the user submits a query, it is retrieved, vectorized, and then transmitted to the vector database (e.g., MongoDB) to be compared with the vectors contained in that database. The vectors that are closest to the query vector are extracted and sent back to the LLM to address the user's concern.</span>\n",
    "        </td>\n",
    "    </tr>\n",
    "</table>\n",
    "\n",
    "In this project, we will use LangChain to implement all of this."
   ]
  },
  {
   "cell_type": "code",
   "execution_count": 1,
   "id": "361ca204-cda7-44e3-b68a-8a15fb8c902e",
   "metadata": {},
   "outputs": [],
   "source": [
    "# imports\n",
    "\n",
    "import os\n",
    "import glob\n",
    "from dotenv import load_dotenv\n",
    "import gradio as gr"
   ]
  },
  {
   "cell_type": "code",
   "execution_count": 2,
   "id": "3d7bdeec-2599-4bea-8ec6-0d76ccdc82c1",
   "metadata": {},
   "outputs": [],
   "source": [
    "# imports for langchain, plotly and Chroma\n",
    "\n",
    "from langchain.document_loaders import DirectoryLoader, TextLoader\n",
    "from langchain.text_splitter import CharacterTextSplitter\n",
    "from langchain.schema import Document\n",
    "from langchain_openai import OpenAIEmbeddings, ChatOpenAI\n",
    "from langchain_chroma import Chroma\n",
    "import matplotlib.pyplot as plt\n",
    "from sklearn.manifold import TSNE\n",
    "import numpy as np\n",
    "import plotly.graph_objects as go\n",
    "from langchain.memory import ConversationBufferMemory\n",
    "from langchain.chains import ConversationalRetrievalChain\n",
    "from langchain.embeddings import HuggingFaceEmbeddings\n",
    "from langchain_core.callbacks import StdOutCallbackHandler"
   ]
  },
  {
   "cell_type": "code",
   "execution_count": 3,
   "id": "af52ab9c-fe72-4ce5-9eda-0a261d782348",
   "metadata": {},
   "outputs": [],
   "source": [
    "# We're going to use a low cost model\n",
    "MODEL = \"gpt-4o-mini\"\n",
    "db_name = \"vector_db\""
   ]
  },
  {
   "cell_type": "code",
   "execution_count": 3,
   "id": "ee72d414-e787-4e05-9830-23f827e82d05",
   "metadata": {},
   "outputs": [],
   "source": [
    "# Load environment variables in a file called .env\n",
    "\n",
    "load_dotenv(override=True)\n",
    "os.environ['OPENAI_API_KEY'] = os.getenv('OPENAI_API_KEY', 'your-key-if-not-using-env')"
   ]
  },
  {
   "cell_type": "code",
   "execution_count": 4,
   "id": "64b58992-58af-47b7-b421-2ca7276e146f",
   "metadata": {},
   "outputs": [],
   "source": [
    "# Read in documents using LangChain's loaders\n",
    "# Take everything in all the sub-folders of our personal_knowlegde\n",
    "\n",
    "folders = glob.glob(\"personal_knowledge/*\")\n",
    "\n"
   ]
  },
  {
   "cell_type": "code",
   "execution_count": 5,
   "id": "33e8dfde-7860-484b-957b-66c9c709a5eb",
   "metadata": {},
   "outputs": [
    {
     "data": {
      "text/plain": [
       "['personal_knowledge\\\\About me',\n",
       " 'personal_knowledge\\\\git',\n",
       " 'personal_knowledge\\\\linkedin']"
      ]
     },
     "execution_count": 5,
     "metadata": {},
     "output_type": "execute_result"
    }
   ],
   "source": [
    "folders"
   ]
  },
  {
   "cell_type": "code",
   "execution_count": 10,
   "id": "be8099ff-165f-4d32-a62f-4839a32d3be9",
   "metadata": {},
   "outputs": [],
   "source": [
    "def add_metadata(doc, doc_type):\n",
    "    doc.metadata[\"doc_type\"] = doc_type\n",
    "    return doc\n",
    "\n",
    "text_loader_kwargs = {'encoding': 'utf-8'}\n",
    "\n",
    "documents = []\n",
    "for folder in folders:\n",
    "    doc_type = os.path.basename(folder)\n",
    "    loader = DirectoryLoader(folder, glob=\"**/*.md\", loader_cls=TextLoader, loader_kwargs=text_loader_kwargs)\n",
    "    folder_docs = loader.load()\n",
    "    documents.extend([add_metadata(doc, doc_type) for doc in folder_docs])"
   ]
  },
  {
   "cell_type": "code",
   "execution_count": 13,
   "id": "8f9c2222-635e-42ee-943b-ed2964dfb9e0",
   "metadata": {},
   "outputs": [
    {
     "name": "stderr",
     "output_type": "stream",
     "text": [
      "Created a chunk of size 1630, which is longer than the specified 1000\n"
     ]
    },
    {
     "name": "stdout",
     "output_type": "stream",
     "text": [
      "Total number of chunks: 40\n",
      "Document types found: {'git', 'About me', 'linkedin'}\n"
     ]
    }
   ],
   "source": [
    "text_splitter = CharacterTextSplitter(chunk_size=1000, chunk_overlap=200)\n",
    "chunks = text_splitter.split_documents(documents)\n",
    "\n",
    "print(f\"Total number of chunks: {len(chunks)}\")\n",
    "print(f\"Document types found: {set(doc.metadata['doc_type'] for doc in documents)}\")"
   ]
  },
  {
   "cell_type": "code",
   "execution_count": 24,
   "id": "af8d72ae-3848-4059-88b7-172bb9333f7b",
   "metadata": {},
   "outputs": [
    {
     "data": {
      "text/plain": [
       "[Document(metadata={'source': 'personal_knowledge\\\\About me\\\\pitch.md', 'doc_type': 'About me'}, page_content='# Pitch\\n\\nBonjour,\\n\\nJe m’appelle Sètondji Hippolyte SODJINOU. Je suis étudiant en Master 1 Économétrie et Statistiques, ainsi qu’en Magistère Économie, Data Science et Finance à l’Aix-Marseille School of Economics.\\n\\nJe souhaite effectuer mon alternance en data science dans le cadre du Master 2 Économétrie et Data Science, à partir de septembre prochain, afin de confirmer mon projet professionnel : devenir Data Scientist.\\n\\nAlors, que puis-je vous apporter pendant cette alternance ?\\n\\nTout d’abord, ma rigueur. Je me suis toujours investi dans mes études avec beaucoup de sérieux et d’assiduité, ce qui m’a permis d’obtenir de bons résultats académiques. Je mets également cette rigueur au service des collégiens que j’accompagne en mathématiques depuis huit (08) mois.'),\n",
       " Document(metadata={'source': 'personal_knowledge\\\\About me\\\\pitch.md', 'doc_type': 'About me'}, page_content='Ensuite, mon esprit critique et d’analyse, que j’ai développé en tant que membre du Conseil Exécutif du Cadre de Concertation des Classes Préparatoires (3CPI), en donnant mon avis sur les nouveaux règlements à appliquer aux étudiants des classes préparatoires.\\n\\nMais aussi, ma créativité. Je l’ai mise au service du club d’informatique de l’Institut de Mathématiques et de Sciences Physiques, au Bénin, en développant un jeu de tirage au sort en langage C.\\n\\nUne dernière chose : je possède également une très bonne capacité d’adaptation. J’ai en effet osé quitter le Bénin il y a neuf (09) mois et je me sens déjà pleinement intégré dans ma nouvelle vie en France, tant à l’université que dans mes activités de bénévolat, notamment comme enseignant de mathématiques ou conseiller en orientation scolaire.\\n\\nJe suis quelqu’un qui aime innover et oser. D’ailleurs, voici ma devise :\\n« Le succès appartient à ceux qui osent aller plus loin. »\\n\\nN’hésitez pas à me contacter, voici mes coordonnées !'),\n",
       " Document(metadata={'source': 'personal_knowledge\\\\git\\\\profil.md', 'doc_type': 'git'}, page_content=\"# Hi there, I'm Hippolyte SODJINOU! 👋\\n\\nWelcome to my GitHub profile!\\n## 🔧 Technologies & Tools\\n\\n- **Languages:** Python, R, C, SQL, HTML, Stata, Latex\\n- **Frameworks & Libraries:**  R libraries, Shiny, Numpy, Pandas, Matplotlib, Streamlit, Dash, Tkinter, Scikit-learn, TensorFlow, Keras, PyTorch, XGBoost, LightGBM, CatBoost ...\\n- **Databases:** MySQL, PostgreSQL, NoSQL, Microsoft SQL Server\\n- **Platforms:** Hugging Face, Anaconda, Kaggle,\\n ABACUS.AI, Eurostat, IPUMS, Dataiku,\\n- **Tools:**  VS Code, JupyterLab (Anaconda),\\n Google Colab, R Studio, Power BI,\\n StataNow 18 MP, Pack Office, Git, Cursor, Gradio.\\n- **Others:** RESTful APIs, Microservices, Data analysis, Statistical modeling, Machine Learning, Spatial Analysis\\n\\n## 🌱 Currently Learning\\n\\n- Development of the AI agent\\n  \\n\\n## 📈 GitHub Stats\\n\\n![Hippolyte90's GitHub stats](https://github-readme-stats.vercel.app/api?username=Hippolyte90&show_icons=true&theme=radical)\\n\\n## 📫 How to Reach Me\"),\n",
       " Document(metadata={'source': 'personal_knowledge\\\\git\\\\profil.md', 'doc_type': 'git'}, page_content=\"- Development of the AI agent\\n  \\n\\n## 📈 GitHub Stats\\n\\n![Hippolyte90's GitHub stats](https://github-readme-stats.vercel.app/api?username=Hippolyte90&show_icons=true&theme=radical)\\n\\n## 📫 How to Reach Me\\n\\n- **Email:** [sodjinouhippolyte@gmail.com](mailto:sodjinouhippolyte@gmail.com)\\n- **LinkedIn:** [Hippolyte Sodjinou](https://www.linkedin.com/in/hippolyte-sodjinou-639850245/)\\n\\n## 📝 Blog\\n\\n\\n## 💬 Let's Connect!\\n\\nFeel free to reach out if you'd like to collaborate on a project, need help with something, or just want to say hi!\\n\\nThanks for visiting my profile! Have a great day! 😊\"),\n",
       " Document(metadata={'source': 'personal_knowledge\\\\git\\\\projets.md', 'doc_type': 'git'}, page_content=\"# Projets\\n\\n## Agent LinkedIn : Génération des postes pour Linkedin \\n\\nCet agent intelligent automatise la création de posts LinkedIn en utilisant l'IA pour générer du contenu pertinent et engageant. Il utilise plusieurs modèles d'IA (OpenAI, Groq, et Gemini) pour générer des posts de qualité.\\n\\n## Fonctionnalités\\n\\n- 🔐 Authentification sécurisée avec LinkedIn\\n- 🔍 Analyse des publications récentes basée sur un thème\\n- 🧠 Suggestions de sujets personnalisés\\n- ✍️ Génération de posts avec différents modèles d'IA :\\n  - OpenAI (GPT-4.1-mini)\\n  - Groq (Llama-3.3-70b-versatile)\\n  - Google Gemini (Gemini-2.0-flash)\\n\\n## Prérequis\\n\\n- Python 3.8 ou supérieur\\n- Compte LinkedIn\\n- Clés API pour :\\n  - OpenAI\\n  - Groq\\n  - Google Gemini\\n\\n## Installation\\n\\n1. Clonez ce dépôt :\\n```bash\\ngit clone [URL_DU_REPO]\\ncd [NOM_DU_DOSSIER]\\n```\\n\\n2. Installez les dépendances :\\n```bash\\npip install linkedin-api\\npip install openai\\npip install python-dotenv\\n```\"),\n",
       " Document(metadata={'source': 'personal_knowledge\\\\git\\\\projets.md', 'doc_type': 'git'}, page_content=\"1. Clonez ce dépôt :\\n```bash\\ngit clone [URL_DU_REPO]\\ncd [NOM_DU_DOSSIER]\\n```\\n\\n2. Installez les dépendances :\\n```bash\\npip install linkedin-api\\npip install openai\\npip install python-dotenv\\n```\\n\\n3. Configurez les variables d'environnement :\\n   - Créez un fichier `.env` à la racine du projet\\n   - Copiez le contenu suivant et remplissez les valeurs :\\n   ```\\n   LINKEDIN_EMAIL=your_email@example.com\\n   LINKEDIN_PASSWORD=your_password\\n   OPENAI_API_KEY=your_openai_api_key\\n   GROQ_API_KEY=your_groq_api_key\\n   GOOGLE_API_KEY=your_google_api_key\\n   ```\\n\\n## Utilisation\\n\\n1. Lancez l'agent :\\n```bash\\npython linkedin_agent.py\\n```\\n\\n2. Suivez les instructions à l'écran pour :\\n   - Vous authentifier sur LinkedIn\\n   - Entrer un thème pour l'analyse des publications\\n   - Choisir parmi les suggestions de sujets générées\\n   - Générer des posts avec différents modèles d'IA\\n\\n## Sécurité\"),\n",
       " Document(metadata={'source': 'personal_knowledge\\\\git\\\\projets.md', 'doc_type': 'git'}, page_content=\"## Sécurité\\n\\n- Ne partagez jamais votre fichier `.env`\\n- Ne committez pas vos identifiants dans le code\\n- Utilisez des mots de passe forts\\n- Gardez vos clés API secrètes\\n\\n## Contribution\\n\\nLes contributions sont les bienvenues ! N'hésitez pas à :\\n- Ouvrir une issue pour signaler un bug\\n- Proposer une pull request pour une amélioration\\n- Partager vos idées d'évolution\\n\\n## Licence\\n\\nMIT \\n\\n## Agent LinkedIn : Génération et Sauvegarde avec Google Docs\\n\\nCet agent intelligent automatise la création de posts LinkedIn en utilisant l'IA pour générer du contenu pertinent et engageant, et les sauvegarde automatiquement dans Google Docs. Il inclut également la possibilité d'une publication assistée sur LinkedIn.\\n\\n## Fonctionnalités\"),\n",
       " Document(metadata={'source': 'personal_knowledge\\\\git\\\\projets.md', 'doc_type': 'git'}, page_content='## Fonctionnalités\\n\\n- 🔐 Authentification sécurisée avec LinkedIn et Google\\n- 🔍 Analyse des publications récentes\\n- 🧠 Suggestions de sujets personnalisés\\n- ✍️ Génération de posts avec différents styles (via OpenAI, Groq, Gemini)\\n- 📄 Sauvegarde automatique dans Google Docs\\n- ✅ Publication assistée sur LinkedIn (fonctionnalité potentielle / à venir)\\n\\n## Prérequis\\n\\n- Python 3.8 ou supérieur\\n- Compte LinkedIn\\n- Compte Google avec accès à Google Docs\\n- Clés API pour OpenAI, Groq et/ou Google Gemini\\n\\n## Installation\\n\\n1. Clonez ce dépôt :\\n```bash\\ngit clone [URL_DU_REPO]\\ncd [NOM_DU_DOSSIER]\\n```\\n\\n2. Installez les dépendances :\\n```bash\\npip install -r requirements.txt\\n```'),\n",
       " Document(metadata={'source': 'personal_knowledge\\\\git\\\\projets.md', 'doc_type': 'git'}, page_content=\"## Installation\\n\\n1. Clonez ce dépôt :\\n```bash\\ngit clone [URL_DU_REPO]\\ncd [NOM_DU_DOSSIER]\\n```\\n\\n2. Installez les dépendances :\\n```bash\\npip install -r requirements.txt\\n```\\n\\n3. Configurez les variables d'environnement :\\n   - Créez un fichier `.env` à la racine du projet\\n   - Copiez le contenu suivant et remplissez les valeurs :\\n   ```\\n   LINKEDIN_EMAIL=your_email@example.com\\n   LINKEDIN_PASSWORD=your_password\\n   OPENAI_API_KEY=your_openai_api_key\\n   GOOGLE_CLIENT_ID=your_google_client_id\\n   GOOGLE_CLIENT_SECRET=your_google_client_secret\\n   GOOGLE_API_KEY=your_google_api_key\\n   GROQ_API_KEY=your_groq_api_key\\n   ```\"),\n",
       " Document(metadata={'source': 'personal_knowledge\\\\git\\\\projets.md', 'doc_type': 'git'}, page_content='4. Configurez l\\'authentification Google :\\n   - Allez sur [Google Cloud Console](https://console.cloud.google.com)\\n   - Créez un nouveau projet\\n   - Activez l\\'API Google Docs\\n   - Créez des identifiants OAuth 2.0 (type \"Desktop app\" ou \"Application de bureau\")\\n   - Téléchargez le fichier `credentials.json` et placez-le à la racine du projet. Ce fichier contient les informations d\\'identification de votre application.\\n\\n## Utilisation\\n\\n1. Lancez l\\'agent :\\n```bash\\npython linkedin_agent_with_docs.py\\n```\\n\\n2. Suivez les instructions à l\\'écran pour :\\n   - Vous authentifier\\n   - Choisir un sujet\\n   - Générer et sauvegarder les posts dans Google Docs\\n\\n## Sécurité\\n\\n- Ne partagez jamais votre fichier `.env`\\n- Ne committez pas vos identifiants dans le code\\n- Utilisez des mots de passe forts\\n- Gardez vos clés API secrètes\\n\\n## Contribution'),\n",
       " Document(metadata={'source': 'personal_knowledge\\\\git\\\\projets.md', 'doc_type': 'git'}, page_content=\"## Sécurité\\n\\n- Ne partagez jamais votre fichier `.env`\\n- Ne committez pas vos identifiants dans le code\\n- Utilisez des mots de passe forts\\n- Gardez vos clés API secrètes\\n\\n## Contribution\\n\\nLes contributions sont les bienvenues ! N'hésitez pas à :\\n- Ouvrir une issue pour signaler un bug\\n- Proposer une pull request pour une amélioration\\n- Partager vos idées d'évolution\\n\\n## Licence\\n\\nMIT\"),\n",
       " Document(metadata={'source': 'personal_knowledge\\\\git\\\\projets.md', 'doc_type': 'git'}, page_content=\"## Licence\\n\\nMIT \\n\\n\\n## Analyse économétrique des séries temporelles de rendements d’ETF : Modélisation GARCH et VAR\\n## Contexte et objectif du projet\\nLe projet s'inscrit dans un contexte financier marqué par une forte volatilité et des dynamiques complexes des marchés. Il vise à analyser les séries temporelles des rendements de trois ETF représentatifs : Amundi MSCI World UCITS ETF - EUR (CW8), Amundi MSCI India UCITS ETF - EUR (CI2) et Amundi FTSE Epra Europe Real Estate UCITS ETF - EUR (EPRE). L'objectif principal est de comprendre les caractéristiques propres à chaque ETF, d'étudier la persistance de la volatilité et les interactions entre ces actifs, et d'améliorer la capacité à anticiper les risques financiers associés. Pour cela, le projet mobilise des modèles économétriques avancés, notamment les modèles GARCH et VAR.\"),\n",
       " Document(metadata={'source': 'personal_knowledge\\\\git\\\\projets.md', 'doc_type': 'git'}, page_content='## Données utilisées\\nLes données utilisées sont les séries temporelles des rendements des trois ETF mentionnés, cotés sur Euronext Paris. Ces ETF couvrent différents marchés : actions mondiales (CW8), actions indiennes (CI2) et immobilier coté européen (EPRE). Les données incluent les valeurs historiques des prix, les rendements géométriques, ainsi que des informations sur la volatilité et la corrélation entre ces actifs. Les données proviennent de sources telles qu’Amundi.fr et Yahoo Finance.'),\n",
       " Document(metadata={'source': 'personal_knowledge\\\\git\\\\projets.md', 'doc_type': 'git'}, page_content='## Méthodologie et outils\\nLa méthodologie repose sur l’analyse économétrique des séries temporelles. Deux types de modèles sont utilisés : les modèles GARCH(1,1), GARCH multivariés (notamment le modèle BEKK) pour modéliser la volatilité conditionnelle et ses dynamiques, et les modèles Vectoriels Auto-Régressifs (VAR) pour étudier les interactions dynamiques entre les rendements des ETF. Le test de causalité de Granger est appliqué pour détecter les relations de causalité entre les séries. La sélection de l’ordre du modèle VAR est réalisée à l’aide de critères d’information (AIC, BIC, HQIC, FPE). Les outils utilisés incluent les langages Python et R.'),\n",
       " Document(metadata={'source': 'personal_knowledge\\\\git\\\\projets.md', 'doc_type': 'git'}, page_content='## Principaux résultats\\nLes résultats montrent une forte persistance de la volatilité pour les ETF CI2 et EPRE, tandis que CW8 présente une volatilité plus stable. La corrélation conditionnelle entre les ETF est modérée et positive, avec des fluctuations dans le temps. Les tests de causalité de Granger révèlent que les valeurs passées des trois ETF ont un pouvoir prédictif significatif les unes sur les autres, justifiant l’utilisation conjointe des séries dans les modèles VAR. Les fonctions de réponse aux impulsions indiquent que les chocs ont un effet transitoire et principalement localisé sur la variable d’origine, avec une transmission limitée entre variables.'),\n",
       " Document(metadata={'source': 'personal_knowledge\\\\git\\\\projets.md', 'doc_type': 'git'}, page_content='## Interprétation et implications\\nL’étude met en lumière la dynamique spécifique des rendements et de la volatilité des ETF, soulignant l’efficacité des modèles GARCH(1,1), GARCH et VAR pour capturer ces phénomènes. La persistance élevée de la volatilité pour certains ETF suggère un risque accru et une mémoire longue des chocs passés. La corrélation modérée entre les ETF ouvre des perspectives de diversification, bien que des phases de turbulence puissent affecter simultanément ces actifs. Ces résultats sont utiles pour optimiser les stratégies d’investissement en tenant compte des particularités de chaque ETF et des interactions entre eux.'),\n",
       " Document(metadata={'source': 'personal_knowledge\\\\git\\\\projets.md', 'doc_type': 'git'}, page_content='## Compétences développées\\nCe projet a permis de développer des compétences avancées en économétrie des séries temporelles, notamment dans la modélisation GARCH multivariée et les modèles VAR. Il a renforcé la maîtrise des tests statistiques comme la causalité de Granger, ainsi que l’interprétation des fonctions de réponse aux impulsions. L’utilisation pratique des langages Python et R pour l’analyse de données financières a également été approfondie, tout comme la capacité à synthétiser des résultats complexes pour des applications en finance quantitative.'),\n",
       " Document(metadata={'source': 'personal_knowledge\\\\git\\\\projets.md', 'doc_type': 'git'}, page_content='<!DOCTYPE html>\\n<html lang=\"en\">\\n<body>\\n    <div class=\"container\">\\n        <h1>📊 Analyse empirique des ETF (ARIMA) - Finance 2024-2025</h1>\\n<strong>Contexte et objectif du projet</strong>\\n        \\nCe projet s’inscrit dans le domaine de la finance empirique et vise à analyser les propriétés statistiques et économétriques des fonds négociés en bourse (ETF). L’objectif principal est de comprendre la dynamique des rendements de plusieurs ETF, d’évaluer leurs caractéristiques statistiques, et d’appliquer des modèles économétriques pour mieux appréhender leur comportement temporel.\\n\\n<strong>Données utilisées</strong>\\n\\nLes données utilisées sont des séries temporelles quotidiennes des prix de trois ETF : Amundi Index MSCI Emerging Markets UCITS ETF DR (AEME.PA), Amundi MSCI Europe Growth UCITS ETF Acc (CG9.PA), et Amundi MSCI Europe Value Factor UCITS ETF-C (CV9.PA). Ces données couvrent une période allant de 2017 à fin 2024.\\n\\n<strong>Méthodologie et outils</strong>'),\n",
       " Document(metadata={'source': 'personal_knowledge\\\\git\\\\projets.md', 'doc_type': 'git'}, page_content='<strong>Méthodologie et outils</strong>\\n\\nL’analyse débute par des statistiques descriptives des rendements géométriques, accompagnées de tests de normalité (Jarque-Bera) et d’analyse des corrélations. Des tests de stationnarité (ADF, KPSS) sont ensuite appliqués pour vérifier les propriétés des séries temporelles. La modélisation économétrique est réalisée via des modèles ARIMA pour capturer les dynamiques des rendements. Enfin, un test de cointégration d’Engle et Granger est effectué pour étudier les relations de long terme entre les ETF. Les analyses ont été conduites à l’aide de Gretl.\\n\\n<strong>Principaux résultats</strong>'),\n",
       " Document(metadata={'source': 'personal_knowledge\\\\git\\\\projets.md', 'doc_type': 'git'}, page_content='<strong>Principaux résultats</strong>\\n\\nLes rendements des ETF présentent une distribution non normale, avec une forte asymétrie et un excès de kurtosis, indiquant des événements extrêmes fréquents. Les séries de prix ne sont pas stationnaires, mais leurs premières différences le sont, validant l’utilisation des modèles ARIMA. Le test de cointégration révèle l’absence de relation de long terme stable entre les ETF étudiés.\\n\\n<strong>Interprétation et implications</strong>\\n\\nCes résultats soulignent la complexité des dynamiques des actifs financiers et la nécessité d’utiliser des modèles adaptés pour la gestion de portefeuille et l’analyse des risques. La non-normalité des rendements et l’absence de cointégration montrent que les stratégies d’investissement doivent prendre en compte ces caractéristiques pour optimiser la prise de décision.\\n\\n<strong>Compétences développées</strong>'),\n",
       " Document(metadata={'source': 'personal_knowledge\\\\git\\\\projets.md', 'doc_type': 'git'}, page_content=\"<strong>Compétences développées</strong>\\n\\nCe travail a permis de renforcer les compétences en analyse statistique, tests économétriques, modélisation de séries temporelles (modèle ARIMA), ainsi qu’en interprétation des résultats financiers.\\n</body>\\n</html>\\n\\n## Data Visualisation: US-Demography and Italy's 2022 Heatwave\\nWorking as a team of three data scientists, we delivered a two‑part analytics project that takes raw public data all the way to interactive insights:\\n\\n1️⃣ U.S. County Demography Explorer\\nData\\xa0: NHGIS population series (2000\\xa0&\\xa02010) for 3,100 counties.\\n\\nWhat we built\\xa0: automated R pipeline (tidyverse\\xa0+\\xa0sf) that cleans, joins shapefiles, and feeds a Shiny + Leaflet dashboard. Users click any county to see real‑time race break‑downs—and instantly verify census numbers such as Los\\xa0Angeles County’s 9.8\\xa0M residents.\\n\\n2️⃣ Climate‑Health Impact for Italy, Summer\\xa02022\\nData\\xa0: ERA5 land temperatures (2015‑2023) + World\\xa0Mortality\\xa0Dataset.\"),\n",
       " Document(metadata={'source': 'personal_knowledge\\\\git\\\\projets.md', 'doc_type': 'git'}, page_content='2️⃣ Climate‑Health Impact for Italy, Summer\\xa02022\\nData\\xa0: ERA5 land temperatures (2015‑2023) + World\\xa0Mortality\\xa0Dataset.\\n\\nMethod\\xa0: Python pipeline (pandas, xarray, statsmodels) to model expected deaths with week fixed effects, then quantify excess mortality.\\n\\nInsight\\xa0: ≈\\xa026,800 excess deaths linked to the 2022 heatwave; bin‑scatter visuals highlight a sharp mortality jump beyond the 95th‑percentile temperature.\\n\\n\\n🔧 Tech & Skills\\nR (tidyverse, Shiny, Leaflet) • Python (pandas, xarray, statsmodels, cartopy) • CDS & NHGIS APIs.\\nSpatial data wrangling │ time‑series modelling │ interactive dashboards │ agile teamwork.\\n\\nResult\\xa0: a compact showcase of how we transform gigabytes of climate and demographic data into actionable, recruiter‑ready insights. Let’s talk if you’re looking for data talent that bridges engineering, analytics and compelling storytelling. 📩\\n\\n#DataScience #SpatialAnalytics #ClimateRisk #ShinyApps #Python #RStats\\n\\n## Machine Learning – Analyse de sentiment de tweets financiers'),\n",
       " Document(metadata={'source': 'personal_knowledge\\\\git\\\\projets.md', 'doc_type': 'git'}, page_content='#DataScience #SpatialAnalytics #ClimateRisk #ShinyApps #Python #RStats\\n\\n## Machine Learning – Analyse de sentiment de tweets financiers\\n\\nProjet universitaire conduit par une équipe de 5 étudiants.\\n\\n🔎 Pipeline NLP : nettoyage, tokenisation BERT & vectorisation TF‑IDF.\\n\\n⚙️ 6 modèles comparés ; BERT en tête avec F1‑score 0,93 (binaire) et 0,75 en multi‑classe (validation croisée 5‑fold) ; BiLSTM 0,88, Random Forest / Régression logistique 0,86. \\u200b\\n\\n📈 Insights : courbe ROC, importance des tokens (SHAP) et analyse des limites (longueur 512 tokens, coût calcul). \\u200b\\n\\n🚀 Compétences acquises : fine‑tuning Transformers, optimisation hyper‑paramètres, validation croisée stratifiée, visualisation avancée & travail agile.\\n\\nPrésentation finale le 10 avril 2025 avec rapport 2 pages et démo live. #NLP #Transformers #SentimentAnalysis #MachineLearning\\n\\n## Analyse des relations entre deux variables via des données Eurostat un projet en R'),\n",
       " Document(metadata={'source': 'personal_knowledge\\\\git\\\\projets.md', 'doc_type': 'git'}, page_content=\"## Analyse des relations entre deux variables via des données Eurostat un projet en R\\n\\nCe projet académique consiste à analyser la relation entre deux variables (autres que le PIB et la satisfaction de vie) issues des données Eurostat. Il est structuré en quatre étapes principales : téléchargement et importation des données en R, nettoyage et fusion des ensembles de données, création de statistiques descriptives illustrées par des graphiques et tableaux, et enfin modélisation statistique (régression linéaire et non linéaire) pour examiner la relation entre les deux variables. Le travail finalisé doit être présenté dans un document PDF avec des visualisations pertinentes et des résultats d'analyse, sans inclure le code R ni les données brutes.\\n\\n## Predicting high site traffic\"),\n",
       " Document(metadata={'source': 'personal_knowledge\\\\git\\\\projets.md', 'doc_type': 'git'}, page_content=\"## Predicting high site traffic\\n\\nThis project aims to predict high website traffic for a recipe site by analyzing various data attributes (such as recipe IDs, nutritional values, categories, and serving sizes) to identify recipes likely to attract a large number of visitors. The approach involves data preparation, exploratory analysis, and the development of predictive models—including a linear probability model, logistic regression, and random forest—implemented in R. Model performance is assessed using confusion matrices, ROC curves, and AUC, while marginal effects and variable importance guide the site's editorial strategy.\"),\n",
       " Document(metadata={'source': 'personal_knowledge\\\\git\\\\projets.md', 'doc_type': 'git'}, page_content=\"## Data Sampling and Data Communication\\nThis project aims to analyze electoral polls and their results to evaluate their accuracy and understand the challenges they present, particularly in the context of far-right candidates. It consists of three main parts: a theoretical analysis of polls and their methodologies, a data analysis with visualizations to assess poll accuracy, and an interpretation of the results with recommendations to improve their precision. The expected deliverable includes a concise written report and up to three graphs illustrating the key findings.\\n\\n## Consommation de carburants en France, l'année 2023\"),\n",
       " Document(metadata={'source': 'personal_knowledge\\\\git\\\\projets.md', 'doc_type': 'git'}, page_content=\"## Consommation de carburants en France, l'année 2023\\n\\nCe projet vise à analyser les prix des carburants en France pour l'année 2023 en utilisant Python. Il comprend plusieurs étapes clés : la collecte de données depuis une source prédéfinie, leur préparation via des transformations spécifiques comme l'extraction des dates ou la création d'indices de prix, ainsi que la visualisation des tendances hebdomadaires à l'aide de bibliothèques comme Matplotlib ou Seaborn. En bonus, il propose de cartographier les prix moyens par département. Enfin, le projet inclut la modélisation pour prévoir les prix futurs des carburants, en se concentrant davantage sur la méthodologie que sur l'optimisation du modèle. Le livrable attendu est un notebook Python bien documenté intégrant toutes ces étapes.\\n\\n## Web Scraping and Interactive Dashboard\"),\n",
       " Document(metadata={'source': 'personal_knowledge\\\\git\\\\projets.md', 'doc_type': 'git'}, page_content='## Web Scraping and Interactive Dashboard\\n\\nThe project involves analyzing election polling data in groups of three by collecting information from assigned Wikipedia pages, cleaning and processing the data using Python (especially Pandas), and creating an interactive interface for users to explore the data. The interface should include visualizations, summary statistics, and manual data entry options, with libraries like Streamlit, Dash, or Tkinter recommended for a user-friendly design.'),\n",
       " Document(metadata={'source': 'personal_knowledge\\\\git\\\\projets.md', 'doc_type': 'git'}, page_content='## Coffee Shop Analysis project\\nThis project focuses on leveraging Python to analyze and visualize data for optimizing the performance of a coffee shop. Using the libraries **Matplotlib** and **Seaborn**, it involves exploring sales patterns through line plots, bar charts, scatter plots, box plots, and violin plots. The project also includes the creation of an advanced dashboard showcasing key insights, such as sales trends, product profitability, and the relationship between temperature and coffee sales. By combining these visualizations, the project provides actionable strategies to improve decision-making and business outcomes for the coffee shop.'),\n",
       " Document(metadata={'source': 'personal_knowledge\\\\linkedin\\\\profil.md', 'doc_type': 'linkedin'}, page_content=\"# Profil LinkedIn\\n## Nom: SODJINOU\\n## Prénoms: Setondji Hippolyte\\n\\n**Etudiant en Master Econométrie, statistiques et en Magistère,\\n Economie, Data Science et Finance || Business Data Scientist\\n || Recherche d'une alternance en Data Science (12 mois) pour\\n septembre**\\n\\n Aix-en-Provence, Provence-Alpes-Côte d’Azur, France\"),\n",
       " Document(metadata={'source': 'personal_knowledge\\\\linkedin\\\\profil.md', 'doc_type': 'linkedin'}, page_content=\"Aix-en-Provence, Provence-Alpes-Côte d’Azur, France\\n\\n **Résumé**\\n Étudiant en Master 1 Économétrie, Statistiques et Magistère\\n Économie, Data Science et Finance à Aix-Marseille Schools of\\n Economics, je suis passionné par l'analyse de données et la finance.\\n Mon parcours académique et mes expériences, notamment en tant\\n que tuteur en mathématiques et membre du Conseil Exécutif du\\n Cadre de Concertation des Classes Préparatoires, témoignent de\\n ma rigueur, de mon esprit critique et de ma créativité. Originaire\\n du Bénin, j'ai su m'adapter rapidement à la vie en France, où je\\n m'investis également dans des activités de bénévolat. Mon objectif\\n est de devenir Data Scientist, convaincu que le succès appartient à\\n ceux qui osent aller plus loin.\\n\\n## Compétences principales\\nR • SQL • Python (langage de programmation) • Microsoft Power BI • Machine learning\"),\n",
       " Document(metadata={'source': 'personal_knowledge\\\\linkedin\\\\profil.md', 'doc_type': 'linkedin'}, page_content='## Compétences principales\\nR • SQL • Python (langage de programmation) • Microsoft Power BI • Machine learning\\n\\n ## Expérience\\n ## upwork\\n **Data Scientist | Python, R, Machine Learning, Interactive Dashboards \\nmai 2025 - Present (2 mois)**\\n Marseille, Provence-Alpes-Côte d’Azur, France\\n ✅ Comprehensive support for your Python, R, Machine Learning, and Data\\n Science projects (from ideation to completion)\\n ✅ Creation of interactive dashboards and data visualizations with Shiny (R),\\n Streamlit, or Dash (Python)\\n ✅ Clear and accessible explanations of concepts, algorithms, and best\\n practices\\n ✅ Review, correction, and optimization of your code, reports, and interactive\\n interfaces\\n ✅ Training or tutoring sessions tailored to your level (beginner to advanced)\\n ✅ Methodological advice to structure and showcase your work\\n\\n\\n ## Freelance\\n ## Rédaction web \\n\\njuillet 2021 - mars 2025 (3 ans 9 mois)'),\n",
       " Document(metadata={'source': 'personal_knowledge\\\\linkedin\\\\profil.md', 'doc_type': 'linkedin'}, page_content=\"Je suis rédacteur web SEO spécialisé dans la création de contenus optimisés\\n pour le référencement sur Internet.\\n Grâce à mes compétences en rédaction, je suis en mesure de produire des\\n contenus de haute qualité qui captent l'attention des visiteurs et les incitent à\\n devenir des acheteurs sur votre site web. Que ce soit des fiches produits, des\\n articles de blog, des descriptions de produits, des e-mails ou des newsletters,\\n je suis capable de les rédiger de manière convaincante et persuasive.\\n Mon expérience professionnelle en tant que rédacteur web freelance m'a\\n permis de travailler avec divers clients sur des plateformes renommées telles\\n que Upwork, Fiverr et Comeup. J'ai acquis une solide expérience dans la\\n rédaction de contenus pour des entreprises de différents secteurs, ce qui\\n m'a permis de développer une compréhension approfondie des stratégies de\\n marketing en ligne et du référencement.\\n Je suis passionné par mon travail et je m'efforce constamment de fournir\\n des contenus qui répondent aux attentes de mes clients. Je suis ouvert à la\\n collaboration et je peux m'adapter facilement aux exigences spécifiques de\\n chaque projet. De plus, je suis prêt à publier gratuitement les contenus que je\\n rédige sur les sites de mes clients, si tel est leur souhait.\\n En résumé, en faisant appel à mes services de rédaction web SEO, vous\\n pouvez vous attendre à des contenus optimisés qui génèrent du trafic et\\n convertissent les visiteurs en acheteurs. Mon expérience, ma passion pour la\\n rédaction et ma capacité à m'adapter font de moi un rédacteur compétent et\\n fiable pour vos besoins en contenu en ligne.\"),\n",
       " Document(metadata={'source': 'personal_knowledge\\\\linkedin\\\\profil.md', 'doc_type': 'linkedin'}, page_content=\"## Société BCEF Ingénierie & Informatique Sarl \\n**Stagiaire en Statistique, Base de données et Probabilités**\\n août 2024 - août 2024 (1 mois)\\n Burkina Faso\\n\\n- Conception d'un notebook sur le Machine Learning, facilitant l'exploration des algorithmes d'apprentissage. \\n- Collecte et traitement de données provenant d'un sondage multisite sur les besoins environnementaux, permettant une analyse approfondie.\\n\\n\\n ## Formation\\n Aix-Marseille Université (AMU), Aix-Marseille School of Economics (AMSE)\\n Master 1 (M1), Econometrics and statistics  · (septembre 2024)\\n\\n Aix-Marseille Université (AMU), Aix-Marseille School of Economics (AMSE)\\n DESU, Magistere Economie, Data Science et Finance  · (septembre 2024)\\n\\nIMSP | Institut de Mathématiques et de Sciences Physiques\\n\\nMaster 1 (M1), Statistiques mathématiques et probabilités · (octobre\\n 2023 - août 2024)\\n\\n IMSP | Institut de Mathématiques et de Sciences Physiques\\n Licence, Mathématiques et informatique · (octobre 2022 - août 2023)\"),\n",
       " Document(metadata={'source': 'personal_knowledge\\\\linkedin\\\\profil.md', 'doc_type': 'linkedin'}, page_content=\"IMSP | Institut de Mathématiques et de Sciences Physiques\\n Licence, Mathématiques et informatique · (octobre 2022 - août 2023)\\n\\n\\n IMSP | Institut de Mathématiques et de Sciences Physiques\\n Classes préparatoires aux grandes écoles (CPGE), MPSI · (octobre\\n 2020 - juillet 2022\\n\\n\\n## Atouts\\n\\nRigueur, Curiosité, Travail en équipe, Esprit critique et d’analyse, Autonomie, Ecoute.\\n\\n\\n## Certifications\\n\\n - Apprendre l'analyse des données : 1\\n Fondements\\n - Prompt engineering pour la\\n génération de contenu avec l'IA\\n - Préparer votre carrière dans l'IA\\n générative par Microsoft et LinkedIn\\n - Dataiku pour le machine learning\\n - Les fondements de la finance\\n\\n## Bénévolat\\nTuteur de mathématiques\\nAcadémie d'Aix-MarseilleAcadémie d'Aix-Marseille\\nnov. 2024 - aujourd’hui · 8 mois\"),\n",
       " Document(metadata={'source': 'personal_knowledge\\\\linkedin\\\\publications importantes.md', 'doc_type': 'linkedin'}, page_content='# Publications importantes\\n\\n##🚀 Automatisation + Intelligence Artificielle = Combo gagnant ! 🤖✨\\n\\nVous connaissez n8n ? C’est comme un chef d’orchestre pour vos workflows : il connecte toutes vos applis préférées sans coder (ou presque).\\n\\n Et puis, il y a Agent AI, la cerise sur le gâteau, qui ajoute une couche d’intelligence pour rendre vos automatisations vraiment futées.\\n\\nImaginez :\\n 🔄 n8n orchestre vos tâches répétitives,\\n 🧠 Agent AI comprend, apprend et optimise en temps réel.\\n\\nLe résultat ? Plus de temps pour innover, moins de temps à cliquer frénétiquement.\\n\\n C’est un peu comme avoir un assistant personnel qui ne dort jamais (et qui ne boit pas votre café ☕).\\n\\nAlors, prêt à booster votre productivité avec cette dream team ? 💥\\n\\nhashtag#Automation hashtag#n8n hashtag#AgentAI hashtag#Productivité hashtag#TechInnovante hashtag#WorkflowMagic\\n\\n\\n## 🚀📊 Interactive Election Polling Analysis 📈🗳️'),\n",
       " Document(metadata={'source': 'personal_knowledge\\\\linkedin\\\\publications importantes.md', 'doc_type': 'linkedin'}, page_content='hashtag#Automation hashtag#n8n hashtag#AgentAI hashtag#Productivité hashtag#TechInnovante hashtag#WorkflowMagic\\n\\n\\n## 🚀📊 Interactive Election Polling Analysis 📈🗳️\\n\\nThe project involves analyzing election polling data in groups of three by collecting information from assigned Wikipedia pages, cleaning and processing the data using Python (especially Pandas), and creating an interactive interface for users to explore the data. The interface includes visualizations, summary statistics, and manual data entry options, designed with user-friendly libraries like Streamlit.'),\n",
       " Document(metadata={'source': 'personal_knowledge\\\\linkedin\\\\publications importantes.md', 'doc_type': 'linkedin'}, page_content='Key highlights of our solution:\\n🔍 Automated Data Scraping: Efficiently gathering polling data including dates, results, sample sizes, polling organizations, and more. 🧹 Effective Data Cleaning: Ensuring high-quality and reliable data using Pandas. 🎨 Dynamic Visualizations: Clear visual representation of polling trends over time using Matplotlib. 💻 Interactive User Interface: An intuitive, easy-to-navigate dashboard for detailed electoral data exploration and analysis.\\n\\nhashtag#DataScience hashtag#Python hashtag#WebScraping hashtag#Elections hashtag#DataVisualization hashtag#Pandas hashtag#Matplotlib hashtag#InteractiveDashboard hashtag#Innovation\\n\\n## 📊 Exploring U.S. County Population\\n\\nOne class project, one new skill!\\n I’m excited to share our latest data‑visualization assignment from Prof. Christian Schluter’s course.\\n\\n🛠️ Stack & workflow'),\n",
       " Document(metadata={'source': 'personal_knowledge\\\\linkedin\\\\publications importantes.md', 'doc_type': 'linkedin'}, page_content='## 📊 Exploring U.S. County Population\\n\\nOne class project, one new skill!\\n I’m excited to share our latest data‑visualization assignment from Prof. Christian Schluter’s course.\\n\\n🛠️ Stack & workflow\\n\\nData extraction\\n • NHGIS figures pulled via the IPUMS API (define_extract_nhgis()).\\nData prep\\n • Joined demographic indicators with county shapefiles using sf.\\nExploration\\n • Top‑10 bar charts: Los Angeles and Cook still dominate, but the Sun Belt is catching up.\\n • Key metrics tracked: median growth, population density, urban share.\\nOutcome\\n • Interactive Shiny dashboard:\\n – type a county name or click directly on the Leaflet map to display its population profile.\\n – dynamic choropleth with real‑time filtering.\\n\\n🚀 Key takeaways\\nTurn NHGIS time‑series data into a clear visual story.\\nBuild a user‑friendly dashboard with Shiny + Leaflet.\\nStorytelling beats stacking graphs.\\n\\n🙏 Big thanks to Prof. Christian Schluter for his guidance—and to my classmates for the great teamwork!'),\n",
       " Document(metadata={'source': 'personal_knowledge\\\\linkedin\\\\publications importantes.md', 'doc_type': 'linkedin'}, page_content='🙏 Big thanks to Prof. Christian Schluter for his guidance—and to my classmates for the great teamwork!\\n\\n🔧 Tools: R (tidyverse, sf, tmap, gridExtra, Shiny), Leaflet, spatial wrangling, time‑series modeling.\\n\\nhashtag#DataViz hashtag#RStats hashtag#Shiny hashtag#NHGIS hashtag#ClassProject hashtag#University hashtag#OpenData')]"
      ]
     },
     "execution_count": 24,
     "metadata": {},
     "output_type": "execute_result"
    }
   ],
   "source": [
    "chunks"
   ]
  },
  {
   "cell_type": "markdown",
   "id": "a09122cc-5a3a-48a1-9d1b-97c1d3d56d65",
   "metadata": {},
   "source": [
    "## Embeddings \n",
    "\n",
    "To enbedding, we 're going to use Auto-encoding LLMs provided by LangChain.\n",
    "Here, we use Chroma as open soure Vector Database. Sidenote that we can replace Chroma by FAISS (Facebook AI Similarity Search)"
   ]
  },
  {
   "cell_type": "code",
   "execution_count": 14,
   "id": "ae351a0f-3e6f-458b-ada0-d384d15019a3",
   "metadata": {},
   "outputs": [
    {
     "name": "stdout",
     "output_type": "stream",
     "text": [
      "Vectorstore created with 40 documents\n"
     ]
    }
   ],
   "source": [
    "# Put the chunks of data into a Vector Store that associates a Vector Embedding with each chunk\n",
    "# Chroma is open source Vector Database based on SQLLite\n",
    "\n",
    "embeddings = OpenAIEmbeddings()\n",
    "\n",
    "# If you would rather use the free Vector Embeddings from HuggingFace sentence-transformers\n",
    "# Then replace embeddings = OpenAIEmbeddings()\n",
    "# with:\n",
    "# from langchain.embeddings import HuggingFaceEmbeddings\n",
    "# embeddings = HuggingFaceEmbeddings(model_name=\"sentence-transformers/all-MiniLM-L6-v2\")\n",
    "\n",
    "# Delete if already exists\n",
    "\n",
    "if os.path.exists(db_name):\n",
    "    Chroma(persist_directory=db_name, embedding_function=embeddings).delete_collection()\n",
    "\n",
    "# Create vectorstore\n",
    "\n",
    "vectorstore = Chroma.from_documents(documents = chunks, embedding=embeddings, persist_directory=db_name)\n",
    "print(f\"Vectorstore created with {vectorstore._collection.count()} documents\")"
   ]
  },
  {
   "cell_type": "code",
   "execution_count": 15,
   "id": "a891ec03-a162-4f83-9e2e-8eb27daae928",
   "metadata": {},
   "outputs": [
    {
     "name": "stdout",
     "output_type": "stream",
     "text": [
      "There are 40 vectors with 1,536 dimensions in the vector store\n"
     ]
    }
   ],
   "source": [
    "# Let's investigate the vectors\n",
    "\n",
    "collection = vectorstore._collection\n",
    "count = collection.count()\n",
    "\n",
    "sample_embedding = collection.get(limit=1, include=[\"embeddings\"])[\"embeddings\"][0]\n",
    "dimensions = len(sample_embedding)\n",
    "print(f\"There are {count:,} vectors with {dimensions:,} dimensions in the vector store\")"
   ]
  },
  {
   "cell_type": "code",
   "execution_count": 23,
   "id": "2e07b2c5-3c2f-40a0-8640-16b41187fccc",
   "metadata": {},
   "outputs": [
    {
     "data": {
      "text/plain": [
       "array([-0.0030908 , -0.01667655,  0.00608327, ..., -0.00607999,\n",
       "       -0.02033437, -0.00036853])"
      ]
     },
     "execution_count": 23,
     "metadata": {},
     "output_type": "execute_result"
    }
   ],
   "source": [
    "sample_embedding"
   ]
  },
  {
   "cell_type": "markdown",
   "id": "72059e3c-8052-49e7-a4f1-b340c9fc3688",
   "metadata": {},
   "source": [
    "# Visualizing the Vector Store"
   ]
  },
  {
   "cell_type": "code",
   "execution_count": 16,
   "id": "74853487-6cc4-40be-8212-415e493eab88",
   "metadata": {},
   "outputs": [],
   "source": [
    "# Prework \n",
    "\n",
    "result = collection.get(include=['embeddings', 'documents', 'metadatas'])\n",
    "vectors = np.array(result['embeddings'])\n",
    "documents = result['documents']\n",
    "metadatas = result['metadatas']\n",
    "doc_types = [metadata['doc_type'] for metadata in metadatas]\n",
    "colors = [['blue', 'green', 'red'][['git', 'About me', 'linkedin'].index(t)] for t in doc_types]"
   ]
  },
  {
   "cell_type": "code",
   "execution_count": 17,
   "id": "6db0695d-4113-4345-8aba-c0f48c3f49b2",
   "metadata": {},
   "outputs": [
    {
     "data": {
      "application/vnd.plotly.v1+json": {
       "config": {
        "plotlyServerURL": "https://plot.ly"
       },
       "data": [
        {
         "hoverinfo": "text",
         "marker": {
          "color": [
           "green",
           "green",
           "blue",
           "blue",
           "blue",
           "blue",
           "blue",
           "blue",
           "blue",
           "blue",
           "blue",
           "blue",
           "blue",
           "blue",
           "blue",
           "blue",
           "blue",
           "blue",
           "blue",
           "blue",
           "blue",
           "blue",
           "blue",
           "blue",
           "blue",
           "blue",
           "blue",
           "blue",
           "blue",
           "red",
           "red",
           "red",
           "red",
           "red",
           "red",
           "red",
           "red",
           "red",
           "red",
           "red"
          ],
          "opacity": 0.8,
          "size": 5
         },
         "mode": "markers",
         "text": [
          "Type: About me<br>Text: # Pitch\n\nBonjour,\n\nJe m’appelle Sètondji Hippolyte SODJINOU. Je suis étudiant en Master 1 Économétri...",
          "Type: About me<br>Text: Ensuite, mon esprit critique et d’analyse, que j’ai développé en tant que membre du Conseil Exécutif...",
          "Type: git<br>Text: # Hi there, I'm Hippolyte SODJINOU! 👋\n\nWelcome to my GitHub profile!\n## 🔧 Technologies & Tools\n\n- **...",
          "Type: git<br>Text: - Development of the AI agent\n  \n\n## 📈 GitHub Stats\n\n![Hippolyte90's GitHub stats](https://github-re...",
          "Type: git<br>Text: # Projets\n\n## Agent LinkedIn : Génération des postes pour Linkedin \n\nCet agent intelligent automatis...",
          "Type: git<br>Text: 1. Clonez ce dépôt :\n```bash\ngit clone [URL_DU_REPO]\ncd [NOM_DU_DOSSIER]\n```\n\n2. Installez les dépen...",
          "Type: git<br>Text: ## Sécurité\n\n- Ne partagez jamais votre fichier `.env`\n- Ne committez pas vos identifiants dans le c...",
          "Type: git<br>Text: ## Fonctionnalités\n\n- 🔐 Authentification sécurisée avec LinkedIn et Google\n- 🔍 Analyse des publicati...",
          "Type: git<br>Text: ## Installation\n\n1. Clonez ce dépôt :\n```bash\ngit clone [URL_DU_REPO]\ncd [NOM_DU_DOSSIER]\n```\n\n2. In...",
          "Type: git<br>Text: 4. Configurez l'authentification Google :\n   - Allez sur [Google Cloud Console](https://console.clou...",
          "Type: git<br>Text: ## Sécurité\n\n- Ne partagez jamais votre fichier `.env`\n- Ne committez pas vos identifiants dans le c...",
          "Type: git<br>Text: ## Licence\n\nMIT \n\n\n## Analyse économétrique des séries temporelles de rendements d’ETF : Modélisatio...",
          "Type: git<br>Text: ## Données utilisées\nLes données utilisées sont les séries temporelles des rendements des trois ETF ...",
          "Type: git<br>Text: ## Méthodologie et outils\nLa méthodologie repose sur l’analyse économétrique des séries temporelles....",
          "Type: git<br>Text: ## Principaux résultats\nLes résultats montrent une forte persistance de la volatilité pour les ETF C...",
          "Type: git<br>Text: ## Interprétation et implications\nL’étude met en lumière la dynamique spécifique des rendements et d...",
          "Type: git<br>Text: ## Compétences développées\nCe projet a permis de développer des compétences avancées en économétrie ...",
          "Type: git<br>Text: <!DOCTYPE html>\n<html lang=\"en\">\n<body>\n    <div class=\"container\">\n        <h1>📊 Analyse empirique ...",
          "Type: git<br>Text: <strong>Méthodologie et outils</strong>\n\nL’analyse débute par des statistiques descriptives des rend...",
          "Type: git<br>Text: <strong>Principaux résultats</strong>\n\nLes rendements des ETF présentent une distribution non normal...",
          "Type: git<br>Text: <strong>Compétences développées</strong>\n\nCe travail a permis de renforcer les compétences en analys...",
          "Type: git<br>Text: 2️⃣ Climate‑Health Impact for Italy, Summer 2022\nData : ERA5 land temperatures (2015‑2023) + World M...",
          "Type: git<br>Text: #DataScience #SpatialAnalytics #ClimateRisk #ShinyApps #Python #RStats\n\n## Machine Learning – Analys...",
          "Type: git<br>Text: ## Analyse des relations entre deux variables via des données Eurostat un projet en R\n\nCe projet aca...",
          "Type: git<br>Text: ## Predicting high site traffic\n\nThis project aims to predict high website traffic for a recipe site...",
          "Type: git<br>Text: ## Data Sampling and Data Communication\nThis project aims to analyze electoral polls and their resul...",
          "Type: git<br>Text: ## Consommation de carburants en France, l'année 2023\n\nCe projet vise à analyser les prix des carbur...",
          "Type: git<br>Text: ## Web Scraping and Interactive Dashboard\n\nThe project involves analyzing election polling data in g...",
          "Type: git<br>Text: ## Coffee Shop Analysis project\nThis project focuses on leveraging Python to analyze and visualize d...",
          "Type: linkedin<br>Text: # Profil LinkedIn\n## Nom: SODJINOU\n## Prénoms: Setondji Hippolyte\n\n**Etudiant en Master Econométrie,...",
          "Type: linkedin<br>Text: Aix-en-Provence, Provence-Alpes-Côte d’Azur, France\n\n **Résumé**\n Étudiant en Master 1 Économétrie, ...",
          "Type: linkedin<br>Text: ## Compétences principales\nR • SQL • Python (langage de programmation) • Microsoft Power BI • Machin...",
          "Type: linkedin<br>Text: Je suis rédacteur web SEO spécialisé dans la création de contenus optimisés\n pour le référencement s...",
          "Type: linkedin<br>Text: ## Société BCEF Ingénierie & Informatique Sarl \n**Stagiaire en Statistique, Base de données et Proba...",
          "Type: linkedin<br>Text: IMSP | Institut de Mathématiques et de Sciences Physiques\n Licence, Mathématiques et informatique · ...",
          "Type: linkedin<br>Text: # Publications importantes\n\n##🚀 Automatisation + Intelligence Artificielle = Combo gagnant ! 🤖✨\n\nVou...",
          "Type: linkedin<br>Text: hashtag#Automation hashtag#n8n hashtag#AgentAI hashtag#Productivité hashtag#TechInnovante hashtag#Wo...",
          "Type: linkedin<br>Text: Key highlights of our solution:\n🔍 Automated Data Scraping: Efficiently gathering polling data includ...",
          "Type: linkedin<br>Text: ## 📊 Exploring U.S. County Population\n\nOne class project, one new skill!\n I’m excited to share our l...",
          "Type: linkedin<br>Text: 🙏 Big thanks to Prof. Christian Schluter for his guidance—and to my classmates for the great teamwor..."
         ],
         "type": "scatter",
         "x": {
          "bdata": "ac8SQRnOD0HV1BhBl1oaQWrlEEH03BBBqmkLQVR2EEH50BFBk+QPQTX/CEGm3+tA3FDoQAIa60DeJ+VA2znkQI6V+kBDPO5ALTjqQBdP5EA8EgJBU8ACQYCk+0AqPPJAVEHkQPd87kC74u9AS6HxQOUT7ED9hhVBALkMQeAkC0GduhdBsW4KQQ8bCkElWwhBNw31QJIn/0AzcARBe6gIQQ==",
          "dtype": "f4"
         },
         "y": {
          "bdata": "k0qbvy7UXL/9rLu/sBGXvxJSDj7ekb8+T4GePqDoKz5PD9I+HgW/PocK9T6lJxG/qoAhvmTyDb9Kh6G+FSezvjI3Yb+Toz2/vOIfv8zD9b60ouy/lAoGwJujxr8QYM6/bQcLwKyOyL/6Eca/1YIdwHz2JsDmkKa/48uav1sHp78flQC/OCePvzuVc7/4FWa+P8cSwObmK8Bg2izAhlAowA==",
          "dtype": "f4"
         }
        }
       ],
       "layout": {
        "height": 600,
        "margin": {
         "b": 10,
         "l": 10,
         "r": 20,
         "t": 40
        },
        "scene": {
         "xaxis": {
          "title": {
           "text": "x"
          }
         },
         "yaxis": {
          "title": {
           "text": "y"
          }
         }
        },
        "template": {
         "data": {
          "bar": [
           {
            "error_x": {
             "color": "#2a3f5f"
            },
            "error_y": {
             "color": "#2a3f5f"
            },
            "marker": {
             "line": {
              "color": "#E5ECF6",
              "width": 0.5
             },
             "pattern": {
              "fillmode": "overlay",
              "size": 10,
              "solidity": 0.2
             }
            },
            "type": "bar"
           }
          ],
          "barpolar": [
           {
            "marker": {
             "line": {
              "color": "#E5ECF6",
              "width": 0.5
             },
             "pattern": {
              "fillmode": "overlay",
              "size": 10,
              "solidity": 0.2
             }
            },
            "type": "barpolar"
           }
          ],
          "carpet": [
           {
            "aaxis": {
             "endlinecolor": "#2a3f5f",
             "gridcolor": "white",
             "linecolor": "white",
             "minorgridcolor": "white",
             "startlinecolor": "#2a3f5f"
            },
            "baxis": {
             "endlinecolor": "#2a3f5f",
             "gridcolor": "white",
             "linecolor": "white",
             "minorgridcolor": "white",
             "startlinecolor": "#2a3f5f"
            },
            "type": "carpet"
           }
          ],
          "choropleth": [
           {
            "colorbar": {
             "outlinewidth": 0,
             "ticks": ""
            },
            "type": "choropleth"
           }
          ],
          "contour": [
           {
            "colorbar": {
             "outlinewidth": 0,
             "ticks": ""
            },
            "colorscale": [
             [
              0,
              "#0d0887"
             ],
             [
              0.1111111111111111,
              "#46039f"
             ],
             [
              0.2222222222222222,
              "#7201a8"
             ],
             [
              0.3333333333333333,
              "#9c179e"
             ],
             [
              0.4444444444444444,
              "#bd3786"
             ],
             [
              0.5555555555555556,
              "#d8576b"
             ],
             [
              0.6666666666666666,
              "#ed7953"
             ],
             [
              0.7777777777777778,
              "#fb9f3a"
             ],
             [
              0.8888888888888888,
              "#fdca26"
             ],
             [
              1,
              "#f0f921"
             ]
            ],
            "type": "contour"
           }
          ],
          "contourcarpet": [
           {
            "colorbar": {
             "outlinewidth": 0,
             "ticks": ""
            },
            "type": "contourcarpet"
           }
          ],
          "heatmap": [
           {
            "colorbar": {
             "outlinewidth": 0,
             "ticks": ""
            },
            "colorscale": [
             [
              0,
              "#0d0887"
             ],
             [
              0.1111111111111111,
              "#46039f"
             ],
             [
              0.2222222222222222,
              "#7201a8"
             ],
             [
              0.3333333333333333,
              "#9c179e"
             ],
             [
              0.4444444444444444,
              "#bd3786"
             ],
             [
              0.5555555555555556,
              "#d8576b"
             ],
             [
              0.6666666666666666,
              "#ed7953"
             ],
             [
              0.7777777777777778,
              "#fb9f3a"
             ],
             [
              0.8888888888888888,
              "#fdca26"
             ],
             [
              1,
              "#f0f921"
             ]
            ],
            "type": "heatmap"
           }
          ],
          "histogram": [
           {
            "marker": {
             "pattern": {
              "fillmode": "overlay",
              "size": 10,
              "solidity": 0.2
             }
            },
            "type": "histogram"
           }
          ],
          "histogram2d": [
           {
            "colorbar": {
             "outlinewidth": 0,
             "ticks": ""
            },
            "colorscale": [
             [
              0,
              "#0d0887"
             ],
             [
              0.1111111111111111,
              "#46039f"
             ],
             [
              0.2222222222222222,
              "#7201a8"
             ],
             [
              0.3333333333333333,
              "#9c179e"
             ],
             [
              0.4444444444444444,
              "#bd3786"
             ],
             [
              0.5555555555555556,
              "#d8576b"
             ],
             [
              0.6666666666666666,
              "#ed7953"
             ],
             [
              0.7777777777777778,
              "#fb9f3a"
             ],
             [
              0.8888888888888888,
              "#fdca26"
             ],
             [
              1,
              "#f0f921"
             ]
            ],
            "type": "histogram2d"
           }
          ],
          "histogram2dcontour": [
           {
            "colorbar": {
             "outlinewidth": 0,
             "ticks": ""
            },
            "colorscale": [
             [
              0,
              "#0d0887"
             ],
             [
              0.1111111111111111,
              "#46039f"
             ],
             [
              0.2222222222222222,
              "#7201a8"
             ],
             [
              0.3333333333333333,
              "#9c179e"
             ],
             [
              0.4444444444444444,
              "#bd3786"
             ],
             [
              0.5555555555555556,
              "#d8576b"
             ],
             [
              0.6666666666666666,
              "#ed7953"
             ],
             [
              0.7777777777777778,
              "#fb9f3a"
             ],
             [
              0.8888888888888888,
              "#fdca26"
             ],
             [
              1,
              "#f0f921"
             ]
            ],
            "type": "histogram2dcontour"
           }
          ],
          "mesh3d": [
           {
            "colorbar": {
             "outlinewidth": 0,
             "ticks": ""
            },
            "type": "mesh3d"
           }
          ],
          "parcoords": [
           {
            "line": {
             "colorbar": {
              "outlinewidth": 0,
              "ticks": ""
             }
            },
            "type": "parcoords"
           }
          ],
          "pie": [
           {
            "automargin": true,
            "type": "pie"
           }
          ],
          "scatter": [
           {
            "fillpattern": {
             "fillmode": "overlay",
             "size": 10,
             "solidity": 0.2
            },
            "type": "scatter"
           }
          ],
          "scatter3d": [
           {
            "line": {
             "colorbar": {
              "outlinewidth": 0,
              "ticks": ""
             }
            },
            "marker": {
             "colorbar": {
              "outlinewidth": 0,
              "ticks": ""
             }
            },
            "type": "scatter3d"
           }
          ],
          "scattercarpet": [
           {
            "marker": {
             "colorbar": {
              "outlinewidth": 0,
              "ticks": ""
             }
            },
            "type": "scattercarpet"
           }
          ],
          "scattergeo": [
           {
            "marker": {
             "colorbar": {
              "outlinewidth": 0,
              "ticks": ""
             }
            },
            "type": "scattergeo"
           }
          ],
          "scattergl": [
           {
            "marker": {
             "colorbar": {
              "outlinewidth": 0,
              "ticks": ""
             }
            },
            "type": "scattergl"
           }
          ],
          "scattermap": [
           {
            "marker": {
             "colorbar": {
              "outlinewidth": 0,
              "ticks": ""
             }
            },
            "type": "scattermap"
           }
          ],
          "scattermapbox": [
           {
            "marker": {
             "colorbar": {
              "outlinewidth": 0,
              "ticks": ""
             }
            },
            "type": "scattermapbox"
           }
          ],
          "scatterpolar": [
           {
            "marker": {
             "colorbar": {
              "outlinewidth": 0,
              "ticks": ""
             }
            },
            "type": "scatterpolar"
           }
          ],
          "scatterpolargl": [
           {
            "marker": {
             "colorbar": {
              "outlinewidth": 0,
              "ticks": ""
             }
            },
            "type": "scatterpolargl"
           }
          ],
          "scatterternary": [
           {
            "marker": {
             "colorbar": {
              "outlinewidth": 0,
              "ticks": ""
             }
            },
            "type": "scatterternary"
           }
          ],
          "surface": [
           {
            "colorbar": {
             "outlinewidth": 0,
             "ticks": ""
            },
            "colorscale": [
             [
              0,
              "#0d0887"
             ],
             [
              0.1111111111111111,
              "#46039f"
             ],
             [
              0.2222222222222222,
              "#7201a8"
             ],
             [
              0.3333333333333333,
              "#9c179e"
             ],
             [
              0.4444444444444444,
              "#bd3786"
             ],
             [
              0.5555555555555556,
              "#d8576b"
             ],
             [
              0.6666666666666666,
              "#ed7953"
             ],
             [
              0.7777777777777778,
              "#fb9f3a"
             ],
             [
              0.8888888888888888,
              "#fdca26"
             ],
             [
              1,
              "#f0f921"
             ]
            ],
            "type": "surface"
           }
          ],
          "table": [
           {
            "cells": {
             "fill": {
              "color": "#EBF0F8"
             },
             "line": {
              "color": "white"
             }
            },
            "header": {
             "fill": {
              "color": "#C8D4E3"
             },
             "line": {
              "color": "white"
             }
            },
            "type": "table"
           }
          ]
         },
         "layout": {
          "annotationdefaults": {
           "arrowcolor": "#2a3f5f",
           "arrowhead": 0,
           "arrowwidth": 1
          },
          "autotypenumbers": "strict",
          "coloraxis": {
           "colorbar": {
            "outlinewidth": 0,
            "ticks": ""
           }
          },
          "colorscale": {
           "diverging": [
            [
             0,
             "#8e0152"
            ],
            [
             0.1,
             "#c51b7d"
            ],
            [
             0.2,
             "#de77ae"
            ],
            [
             0.3,
             "#f1b6da"
            ],
            [
             0.4,
             "#fde0ef"
            ],
            [
             0.5,
             "#f7f7f7"
            ],
            [
             0.6,
             "#e6f5d0"
            ],
            [
             0.7,
             "#b8e186"
            ],
            [
             0.8,
             "#7fbc41"
            ],
            [
             0.9,
             "#4d9221"
            ],
            [
             1,
             "#276419"
            ]
           ],
           "sequential": [
            [
             0,
             "#0d0887"
            ],
            [
             0.1111111111111111,
             "#46039f"
            ],
            [
             0.2222222222222222,
             "#7201a8"
            ],
            [
             0.3333333333333333,
             "#9c179e"
            ],
            [
             0.4444444444444444,
             "#bd3786"
            ],
            [
             0.5555555555555556,
             "#d8576b"
            ],
            [
             0.6666666666666666,
             "#ed7953"
            ],
            [
             0.7777777777777778,
             "#fb9f3a"
            ],
            [
             0.8888888888888888,
             "#fdca26"
            ],
            [
             1,
             "#f0f921"
            ]
           ],
           "sequentialminus": [
            [
             0,
             "#0d0887"
            ],
            [
             0.1111111111111111,
             "#46039f"
            ],
            [
             0.2222222222222222,
             "#7201a8"
            ],
            [
             0.3333333333333333,
             "#9c179e"
            ],
            [
             0.4444444444444444,
             "#bd3786"
            ],
            [
             0.5555555555555556,
             "#d8576b"
            ],
            [
             0.6666666666666666,
             "#ed7953"
            ],
            [
             0.7777777777777778,
             "#fb9f3a"
            ],
            [
             0.8888888888888888,
             "#fdca26"
            ],
            [
             1,
             "#f0f921"
            ]
           ]
          },
          "colorway": [
           "#636efa",
           "#EF553B",
           "#00cc96",
           "#ab63fa",
           "#FFA15A",
           "#19d3f3",
           "#FF6692",
           "#B6E880",
           "#FF97FF",
           "#FECB52"
          ],
          "font": {
           "color": "#2a3f5f"
          },
          "geo": {
           "bgcolor": "white",
           "lakecolor": "white",
           "landcolor": "#E5ECF6",
           "showlakes": true,
           "showland": true,
           "subunitcolor": "white"
          },
          "hoverlabel": {
           "align": "left"
          },
          "hovermode": "closest",
          "mapbox": {
           "style": "light"
          },
          "paper_bgcolor": "white",
          "plot_bgcolor": "#E5ECF6",
          "polar": {
           "angularaxis": {
            "gridcolor": "white",
            "linecolor": "white",
            "ticks": ""
           },
           "bgcolor": "#E5ECF6",
           "radialaxis": {
            "gridcolor": "white",
            "linecolor": "white",
            "ticks": ""
           }
          },
          "scene": {
           "xaxis": {
            "backgroundcolor": "#E5ECF6",
            "gridcolor": "white",
            "gridwidth": 2,
            "linecolor": "white",
            "showbackground": true,
            "ticks": "",
            "zerolinecolor": "white"
           },
           "yaxis": {
            "backgroundcolor": "#E5ECF6",
            "gridcolor": "white",
            "gridwidth": 2,
            "linecolor": "white",
            "showbackground": true,
            "ticks": "",
            "zerolinecolor": "white"
           },
           "zaxis": {
            "backgroundcolor": "#E5ECF6",
            "gridcolor": "white",
            "gridwidth": 2,
            "linecolor": "white",
            "showbackground": true,
            "ticks": "",
            "zerolinecolor": "white"
           }
          },
          "shapedefaults": {
           "line": {
            "color": "#2a3f5f"
           }
          },
          "ternary": {
           "aaxis": {
            "gridcolor": "white",
            "linecolor": "white",
            "ticks": ""
           },
           "baxis": {
            "gridcolor": "white",
            "linecolor": "white",
            "ticks": ""
           },
           "bgcolor": "#E5ECF6",
           "caxis": {
            "gridcolor": "white",
            "linecolor": "white",
            "ticks": ""
           }
          },
          "title": {
           "x": 0.05
          },
          "xaxis": {
           "automargin": true,
           "gridcolor": "white",
           "linecolor": "white",
           "ticks": "",
           "title": {
            "standoff": 15
           },
           "zerolinecolor": "white",
           "zerolinewidth": 2
          },
          "yaxis": {
           "automargin": true,
           "gridcolor": "white",
           "linecolor": "white",
           "ticks": "",
           "title": {
            "standoff": 15
           },
           "zerolinecolor": "white",
           "zerolinewidth": 2
          }
         }
        },
        "title": {
         "text": "2D Chroma Vector Store Visualization"
        },
        "width": 800
       }
      },
      "image/png": "[encoded data removed]"
     },
     "metadata": {},
     "output_type": "display_data"
    }
   ],
   "source": [
    "# We humans find it easier to visalize things in 2D!\n",
    "# Reduce the dimensionality of the vectors to 2D using t-SNE\n",
    "# (t-distributed stochastic neighbor embedding)\n",
    "\n",
    "tsne = TSNE(n_components=2, random_state=42)\n",
    "reduced_vectors = tsne.fit_transform(vectors)\n",
    "\n",
    "# Create the 2D scatter plot\n",
    "fig = go.Figure(data=[go.Scatter(\n",
    "    x=reduced_vectors[:, 0],\n",
    "    y=reduced_vectors[:, 1],\n",
    "    mode='markers',\n",
    "    marker=dict(size=5, color=colors, opacity=0.8),\n",
    "    text=[f\"Type: {t}<br>Text: {d[:100]}...\" for t, d in zip(doc_types, documents)],\n",
    "    hoverinfo='text'\n",
    ")])\n",
    "\n",
    "fig.update_layout(\n",
    "    title='2D Chroma Vector Store Visualization',\n",
    "    scene=dict(xaxis_title='x',yaxis_title='y'),\n",
    "    width=800,\n",
    "    height=600,\n",
    "    margin=dict(r=20, b=10, l=10, t=40)\n",
    ")\n",
    "\n",
    "fig.show()"
   ]
  },
  {
   "cell_type": "code",
   "execution_count": 18,
   "id": "cc74e632-f1e4-4311-b5f6-185c80619989",
   "metadata": {},
   "outputs": [
    {
     "data": {
      "application/vnd.plotly.v1+json": {
       "config": {
        "plotlyServerURL": "https://plot.ly"
       },
       "data": [
        {
         "hoverinfo": "text",
         "marker": {
          "color": [
           "green",
           "green",
           "blue",
           "blue",
           "blue",
           "blue",
           "blue",
           "blue",
           "blue",
           "blue",
           "blue",
           "blue",
           "blue",
           "blue",
           "blue",
           "blue",
           "blue",
           "blue",
           "blue",
           "blue",
           "blue",
           "blue",
           "blue",
           "blue",
           "blue",
           "blue",
           "blue",
           "blue",
           "blue",
           "red",
           "red",
           "red",
           "red",
           "red",
           "red",
           "red",
           "red",
           "red",
           "red",
           "red"
          ],
          "opacity": 0.8,
          "size": 5
         },
         "mode": "markers",
         "text": [
          "Type: About me<br>Text: # Pitch\n\nBonjour,\n\nJe m’appelle Sètondji Hippolyte SODJINOU. Je suis étudiant en Master 1 Économétri...",
          "Type: About me<br>Text: Ensuite, mon esprit critique et d’analyse, que j’ai développé en tant que membre du Conseil Exécutif...",
          "Type: git<br>Text: # Hi there, I'm Hippolyte SODJINOU! 👋\n\nWelcome to my GitHub profile!\n## 🔧 Technologies & Tools\n\n- **...",
          "Type: git<br>Text: - Development of the AI agent\n  \n\n## 📈 GitHub Stats\n\n![Hippolyte90's GitHub stats](https://github-re...",
          "Type: git<br>Text: # Projets\n\n## Agent LinkedIn : Génération des postes pour Linkedin \n\nCet agent intelligent automatis...",
          "Type: git<br>Text: 1. Clonez ce dépôt :\n```bash\ngit clone [URL_DU_REPO]\ncd [NOM_DU_DOSSIER]\n```\n\n2. Installez les dépen...",
          "Type: git<br>Text: ## Sécurité\n\n- Ne partagez jamais votre fichier `.env`\n- Ne committez pas vos identifiants dans le c...",
          "Type: git<br>Text: ## Fonctionnalités\n\n- 🔐 Authentification sécurisée avec LinkedIn et Google\n- 🔍 Analyse des publicati...",
          "Type: git<br>Text: ## Installation\n\n1. Clonez ce dépôt :\n```bash\ngit clone [URL_DU_REPO]\ncd [NOM_DU_DOSSIER]\n```\n\n2. In...",
          "Type: git<br>Text: 4. Configurez l'authentification Google :\n   - Allez sur [Google Cloud Console](https://console.clou...",
          "Type: git<br>Text: ## Sécurité\n\n- Ne partagez jamais votre fichier `.env`\n- Ne committez pas vos identifiants dans le c...",
          "Type: git<br>Text: ## Licence\n\nMIT \n\n\n## Analyse économétrique des séries temporelles de rendements d’ETF : Modélisatio...",
          "Type: git<br>Text: ## Données utilisées\nLes données utilisées sont les séries temporelles des rendements des trois ETF ...",
          "Type: git<br>Text: ## Méthodologie et outils\nLa méthodologie repose sur l’analyse économétrique des séries temporelles....",
          "Type: git<br>Text: ## Principaux résultats\nLes résultats montrent une forte persistance de la volatilité pour les ETF C...",
          "Type: git<br>Text: ## Interprétation et implications\nL’étude met en lumière la dynamique spécifique des rendements et d...",
          "Type: git<br>Text: ## Compétences développées\nCe projet a permis de développer des compétences avancées en économétrie ...",
          "Type: git<br>Text: <!DOCTYPE html>\n<html lang=\"en\">\n<body>\n    <div class=\"container\">\n        <h1>📊 Analyse empirique ...",
          "Type: git<br>Text: <strong>Méthodologie et outils</strong>\n\nL’analyse débute par des statistiques descriptives des rend...",
          "Type: git<br>Text: <strong>Principaux résultats</strong>\n\nLes rendements des ETF présentent une distribution non normal...",
          "Type: git<br>Text: <strong>Compétences développées</strong>\n\nCe travail a permis de renforcer les compétences en analys...",
          "Type: git<br>Text: 2️⃣ Climate‑Health Impact for Italy, Summer 2022\nData : ERA5 land temperatures (2015‑2023) + World M...",
          "Type: git<br>Text: #DataScience #SpatialAnalytics #ClimateRisk #ShinyApps #Python #RStats\n\n## Machine Learning – Analys...",
          "Type: git<br>Text: ## Analyse des relations entre deux variables via des données Eurostat un projet en R\n\nCe projet aca...",
          "Type: git<br>Text: ## Predicting high site traffic\n\nThis project aims to predict high website traffic for a recipe site...",
          "Type: git<br>Text: ## Data Sampling and Data Communication\nThis project aims to analyze electoral polls and their resul...",
          "Type: git<br>Text: ## Consommation de carburants en France, l'année 2023\n\nCe projet vise à analyser les prix des carbur...",
          "Type: git<br>Text: ## Web Scraping and Interactive Dashboard\n\nThe project involves analyzing election polling data in g...",
          "Type: git<br>Text: ## Coffee Shop Analysis project\nThis project focuses on leveraging Python to analyze and visualize d...",
          "Type: linkedin<br>Text: # Profil LinkedIn\n## Nom: SODJINOU\n## Prénoms: Setondji Hippolyte\n\n**Etudiant en Master Econométrie,...",
          "Type: linkedin<br>Text: Aix-en-Provence, Provence-Alpes-Côte d’Azur, France\n\n **Résumé**\n Étudiant en Master 1 Économétrie, ...",
          "Type: linkedin<br>Text: ## Compétences principales\nR • SQL • Python (langage de programmation) • Microsoft Power BI • Machin...",
          "Type: linkedin<br>Text: Je suis rédacteur web SEO spécialisé dans la création de contenus optimisés\n pour le référencement s...",
          "Type: linkedin<br>Text: ## Société BCEF Ingénierie & Informatique Sarl \n**Stagiaire en Statistique, Base de données et Proba...",
          "Type: linkedin<br>Text: IMSP | Institut de Mathématiques et de Sciences Physiques\n Licence, Mathématiques et informatique · ...",
          "Type: linkedin<br>Text: # Publications importantes\n\n##🚀 Automatisation + Intelligence Artificielle = Combo gagnant ! 🤖✨\n\nVou...",
          "Type: linkedin<br>Text: hashtag#Automation hashtag#n8n hashtag#AgentAI hashtag#Productivité hashtag#TechInnovante hashtag#Wo...",
          "Type: linkedin<br>Text: Key highlights of our solution:\n🔍 Automated Data Scraping: Efficiently gathering polling data includ...",
          "Type: linkedin<br>Text: ## 📊 Exploring U.S. County Population\n\nOne class project, one new skill!\n I’m excited to share our l...",
          "Type: linkedin<br>Text: 🙏 Big thanks to Prof. Christian Schluter for his guidance—and to my classmates for the great teamwor..."
         ],
         "type": "scatter3d",
         "x": {
          "bdata": "IC6wwl5juEKOsBNDJZIRQYWO7cKxXrHCOh+hQlki0sIr1LjCzk6CQjpmJUIXfzJC31ViQpslkcEih91CDio3wgNCNsLXcs9CIO4+wozCHkKbjIxBV6wawgC6jEKNEOrCjuVmwtaNJsF7dHRABh8uQfLD30GEbt1CR56SQtX7YsG5/PPCyLU7QveG1cKhqhLCLBTxwS3NTMFPiqvBMc85Qg==",
          "dtype": "f4"
         },
         "y": {
          "bdata": "aCJ+wWxunkL+iEVBXbSjQgT5CkJ2xEjAytFDQpuKrkJ3W+TC7fTvwqEJxkIAfEjCzeu8wpMHv8DeA3lC7B9nwqMADUDZJZjB1eAeQglMO8IiPIhBdeypQpVdTEHV1WvCSwOfQvInf8FZldrCr8ymwUjskUI8QErCsKU2QbatA8On2WfCdenCQdus2EEX16vClrFzwpis8ULH5gtC9JIQQw==",
          "dtype": "f4"
         },
         "z": {
          "bdata": "hAjCwAbr4UEVYc1BOYpRwazcJ0JT7MJCBbvzwqjHLcCP5EZAp9R9QjupvsKvCo1C1zuWwU88V8IkKj/Cgxuiwiph+8IhrnzC+Yy/wf9ejsJuVNvCMu+ywlD84EKOsWvCMvy/Qnmf4kJjLbPCvDVwQYgaq0IlBkhBT5fxQa59asE5AU5CvZABwre3m8KYHZVCMZg7QdhzP0KImD5CQrTIwA==",
          "dtype": "f4"
         }
        }
       ],
       "layout": {
        "height": 700,
        "margin": {
         "b": 10,
         "l": 10,
         "r": 20,
         "t": 40
        },
        "scene": {
         "xaxis": {
          "title": {
           "text": "x"
          }
         },
         "yaxis": {
          "title": {
           "text": "y"
          }
         },
         "zaxis": {
          "title": {
           "text": "z"
          }
         }
        },
        "template": {
         "data": {
          "bar": [
           {
            "error_x": {
             "color": "#2a3f5f"
            },
            "error_y": {
             "color": "#2a3f5f"
            },
            "marker": {
             "line": {
              "color": "#E5ECF6",
              "width": 0.5
             },
             "pattern": {
              "fillmode": "overlay",
              "size": 10,
              "solidity": 0.2
             }
            },
            "type": "bar"
           }
          ],
          "barpolar": [
           {
            "marker": {
             "line": {
              "color": "#E5ECF6",
              "width": 0.5
             },
             "pattern": {
              "fillmode": "overlay",
              "size": 10,
              "solidity": 0.2
             }
            },
            "type": "barpolar"
           }
          ],
          "carpet": [
           {
            "aaxis": {
             "endlinecolor": "#2a3f5f",
             "gridcolor": "white",
             "linecolor": "white",
             "minorgridcolor": "white",
             "startlinecolor": "#2a3f5f"
            },
            "baxis": {
             "endlinecolor": "#2a3f5f",
             "gridcolor": "white",
             "linecolor": "white",
             "minorgridcolor": "white",
             "startlinecolor": "#2a3f5f"
            },
            "type": "carpet"
           }
          ],
          "choropleth": [
           {
            "colorbar": {
             "outlinewidth": 0,
             "ticks": ""
            },
            "type": "choropleth"
           }
          ],
          "contour": [
           {
            "colorbar": {
             "outlinewidth": 0,
             "ticks": ""
            },
            "colorscale": [
             [
              0,
              "#0d0887"
             ],
             [
              0.1111111111111111,
              "#46039f"
             ],
             [
              0.2222222222222222,
              "#7201a8"
             ],
             [
              0.3333333333333333,
              "#9c179e"
             ],
             [
              0.4444444444444444,
              "#bd3786"
             ],
             [
              0.5555555555555556,
              "#d8576b"
             ],
             [
              0.6666666666666666,
              "#ed7953"
             ],
             [
              0.7777777777777778,
              "#fb9f3a"
             ],
             [
              0.8888888888888888,
              "#fdca26"
             ],
             [
              1,
              "#f0f921"
             ]
            ],
            "type": "contour"
           }
          ],
          "contourcarpet": [
           {
            "colorbar": {
             "outlinewidth": 0,
             "ticks": ""
            },
            "type": "contourcarpet"
           }
          ],
          "heatmap": [
           {
            "colorbar": {
             "outlinewidth": 0,
             "ticks": ""
            },
            "colorscale": [
             [
              0,
              "#0d0887"
             ],
             [
              0.1111111111111111,
              "#46039f"
             ],
             [
              0.2222222222222222,
              "#7201a8"
             ],
             [
              0.3333333333333333,
              "#9c179e"
             ],
             [
              0.4444444444444444,
              "#bd3786"
             ],
             [
              0.5555555555555556,
              "#d8576b"
             ],
             [
              0.6666666666666666,
              "#ed7953"
             ],
             [
              0.7777777777777778,
              "#fb9f3a"
             ],
             [
              0.8888888888888888,
              "#fdca26"
             ],
             [
              1,
              "#f0f921"
             ]
            ],
            "type": "heatmap"
           }
          ],
          "histogram": [
           {
            "marker": {
             "pattern": {
              "fillmode": "overlay",
              "size": 10,
              "solidity": 0.2
             }
            },
            "type": "histogram"
           }
          ],
          "histogram2d": [
           {
            "colorbar": {
             "outlinewidth": 0,
             "ticks": ""
            },
            "colorscale": [
             [
              0,
              "#0d0887"
             ],
             [
              0.1111111111111111,
              "#46039f"
             ],
             [
              0.2222222222222222,
              "#7201a8"
             ],
             [
              0.3333333333333333,
              "#9c179e"
             ],
             [
              0.4444444444444444,
              "#bd3786"
             ],
             [
              0.5555555555555556,
              "#d8576b"
             ],
             [
              0.6666666666666666,
              "#ed7953"
             ],
             [
              0.7777777777777778,
              "#fb9f3a"
             ],
             [
              0.8888888888888888,
              "#fdca26"
             ],
             [
              1,
              "#f0f921"
             ]
            ],
            "type": "histogram2d"
           }
          ],
          "histogram2dcontour": [
           {
            "colorbar": {
             "outlinewidth": 0,
             "ticks": ""
            },
            "colorscale": [
             [
              0,
              "#0d0887"
             ],
             [
              0.1111111111111111,
              "#46039f"
             ],
             [
              0.2222222222222222,
              "#7201a8"
             ],
             [
              0.3333333333333333,
              "#9c179e"
             ],
             [
              0.4444444444444444,
              "#bd3786"
             ],
             [
              0.5555555555555556,
              "#d8576b"
             ],
             [
              0.6666666666666666,
              "#ed7953"
             ],
             [
              0.7777777777777778,
              "#fb9f3a"
             ],
             [
              0.8888888888888888,
              "#fdca26"
             ],
             [
              1,
              "#f0f921"
             ]
            ],
            "type": "histogram2dcontour"
           }
          ],
          "mesh3d": [
           {
            "colorbar": {
             "outlinewidth": 0,
             "ticks": ""
            },
            "type": "mesh3d"
           }
          ],
          "parcoords": [
           {
            "line": {
             "colorbar": {
              "outlinewidth": 0,
              "ticks": ""
             }
            },
            "type": "parcoords"
           }
          ],
          "pie": [
           {
            "automargin": true,
            "type": "pie"
           }
          ],
          "scatter": [
           {
            "fillpattern": {
             "fillmode": "overlay",
             "size": 10,
             "solidity": 0.2
            },
            "type": "scatter"
           }
          ],
          "scatter3d": [
           {
            "line": {
             "colorbar": {
              "outlinewidth": 0,
              "ticks": ""
             }
            },
            "marker": {
             "colorbar": {
              "outlinewidth": 0,
              "ticks": ""
             }
            },
            "type": "scatter3d"
           }
          ],
          "scattercarpet": [
           {
            "marker": {
             "colorbar": {
              "outlinewidth": 0,
              "ticks": ""
             }
            },
            "type": "scattercarpet"
           }
          ],
          "scattergeo": [
           {
            "marker": {
             "colorbar": {
              "outlinewidth": 0,
              "ticks": ""
             }
            },
            "type": "scattergeo"
           }
          ],
          "scattergl": [
           {
            "marker": {
             "colorbar": {
              "outlinewidth": 0,
              "ticks": ""
             }
            },
            "type": "scattergl"
           }
          ],
          "scattermap": [
           {
            "marker": {
             "colorbar": {
              "outlinewidth": 0,
              "ticks": ""
             }
            },
            "type": "scattermap"
           }
          ],
          "scattermapbox": [
           {
            "marker": {
             "colorbar": {
              "outlinewidth": 0,
              "ticks": ""
             }
            },
            "type": "scattermapbox"
           }
          ],
          "scatterpolar": [
           {
            "marker": {
             "colorbar": {
              "outlinewidth": 0,
              "ticks": ""
             }
            },
            "type": "scatterpolar"
           }
          ],
          "scatterpolargl": [
           {
            "marker": {
             "colorbar": {
              "outlinewidth": 0,
              "ticks": ""
             }
            },
            "type": "scatterpolargl"
           }
          ],
          "scatterternary": [
           {
            "marker": {
             "colorbar": {
              "outlinewidth": 0,
              "ticks": ""
             }
            },
            "type": "scatterternary"
           }
          ],
          "surface": [
           {
            "colorbar": {
             "outlinewidth": 0,
             "ticks": ""
            },
            "colorscale": [
             [
              0,
              "#0d0887"
             ],
             [
              0.1111111111111111,
              "#46039f"
             ],
             [
              0.2222222222222222,
              "#7201a8"
             ],
             [
              0.3333333333333333,
              "#9c179e"
             ],
             [
              0.4444444444444444,
              "#bd3786"
             ],
             [
              0.5555555555555556,
              "#d8576b"
             ],
             [
              0.6666666666666666,
              "#ed7953"
             ],
             [
              0.7777777777777778,
              "#fb9f3a"
             ],
             [
              0.8888888888888888,
              "#fdca26"
             ],
             [
              1,
              "#f0f921"
             ]
            ],
            "type": "surface"
           }
          ],
          "table": [
           {
            "cells": {
             "fill": {
              "color": "#EBF0F8"
             },
             "line": {
              "color": "white"
             }
            },
            "header": {
             "fill": {
              "color": "#C8D4E3"
             },
             "line": {
              "color": "white"
             }
            },
            "type": "table"
           }
          ]
         },
         "layout": {
          "annotationdefaults": {
           "arrowcolor": "#2a3f5f",
           "arrowhead": 0,
           "arrowwidth": 1
          },
          "autotypenumbers": "strict",
          "coloraxis": {
           "colorbar": {
            "outlinewidth": 0,
            "ticks": ""
           }
          },
          "colorscale": {
           "diverging": [
            [
             0,
             "#8e0152"
            ],
            [
             0.1,
             "#c51b7d"
            ],
            [
             0.2,
             "#de77ae"
            ],
            [
             0.3,
             "#f1b6da"
            ],
            [
             0.4,
             "#fde0ef"
            ],
            [
             0.5,
             "#f7f7f7"
            ],
            [
             0.6,
             "#e6f5d0"
            ],
            [
             0.7,
             "#b8e186"
            ],
            [
             0.8,
             "#7fbc41"
            ],
            [
             0.9,
             "#4d9221"
            ],
            [
             1,
             "#276419"
            ]
           ],
           "sequential": [
            [
             0,
             "#0d0887"
            ],
            [
             0.1111111111111111,
             "#46039f"
            ],
            [
             0.2222222222222222,
             "#7201a8"
            ],
            [
             0.3333333333333333,
             "#9c179e"
            ],
            [
             0.4444444444444444,
             "#bd3786"
            ],
            [
             0.5555555555555556,
             "#d8576b"
            ],
            [
             0.6666666666666666,
             "#ed7953"
            ],
            [
             0.7777777777777778,
             "#fb9f3a"
            ],
            [
             0.8888888888888888,
             "#fdca26"
            ],
            [
             1,
             "#f0f921"
            ]
           ],
           "sequentialminus": [
            [
             0,
             "#0d0887"
            ],
            [
             0.1111111111111111,
             "#46039f"
            ],
            [
             0.2222222222222222,
             "#7201a8"
            ],
            [
             0.3333333333333333,
             "#9c179e"
            ],
            [
             0.4444444444444444,
             "#bd3786"
            ],
            [
             0.5555555555555556,
             "#d8576b"
            ],
            [
             0.6666666666666666,
             "#ed7953"
            ],
            [
             0.7777777777777778,
             "#fb9f3a"
            ],
            [
             0.8888888888888888,
             "#fdca26"
            ],
            [
             1,
             "#f0f921"
            ]
           ]
          },
          "colorway": [
           "#636efa",
           "#EF553B",
           "#00cc96",
           "#ab63fa",
           "#FFA15A",
           "#19d3f3",
           "#FF6692",
           "#B6E880",
           "#FF97FF",
           "#FECB52"
          ],
          "font": {
           "color": "#2a3f5f"
          },
          "geo": {
           "bgcolor": "white",
           "lakecolor": "white",
           "landcolor": "#E5ECF6",
           "showlakes": true,
           "showland": true,
           "subunitcolor": "white"
          },
          "hoverlabel": {
           "align": "left"
          },
          "hovermode": "closest",
          "mapbox": {
           "style": "light"
          },
          "paper_bgcolor": "white",
          "plot_bgcolor": "#E5ECF6",
          "polar": {
           "angularaxis": {
            "gridcolor": "white",
            "linecolor": "white",
            "ticks": ""
           },
           "bgcolor": "#E5ECF6",
           "radialaxis": {
            "gridcolor": "white",
            "linecolor": "white",
            "ticks": ""
           }
          },
          "scene": {
           "xaxis": {
            "backgroundcolor": "#E5ECF6",
            "gridcolor": "white",
            "gridwidth": 2,
            "linecolor": "white",
            "showbackground": true,
            "ticks": "",
            "zerolinecolor": "white"
           },
           "yaxis": {
            "backgroundcolor": "#E5ECF6",
            "gridcolor": "white",
            "gridwidth": 2,
            "linecolor": "white",
            "showbackground": true,
            "ticks": "",
            "zerolinecolor": "white"
           },
           "zaxis": {
            "backgroundcolor": "#E5ECF6",
            "gridcolor": "white",
            "gridwidth": 2,
            "linecolor": "white",
            "showbackground": true,
            "ticks": "",
            "zerolinecolor": "white"
           }
          },
          "shapedefaults": {
           "line": {
            "color": "#2a3f5f"
           }
          },
          "ternary": {
           "aaxis": {
            "gridcolor": "white",
            "linecolor": "white",
            "ticks": ""
           },
           "baxis": {
            "gridcolor": "white",
            "linecolor": "white",
            "ticks": ""
           },
           "bgcolor": "#E5ECF6",
           "caxis": {
            "gridcolor": "white",
            "linecolor": "white",
            "ticks": ""
           }
          },
          "title": {
           "x": 0.05
          },
          "xaxis": {
           "automargin": true,
           "gridcolor": "white",
           "linecolor": "white",
           "ticks": "",
           "title": {
            "standoff": 15
           },
           "zerolinecolor": "white",
           "zerolinewidth": 2
          },
          "yaxis": {
           "automargin": true,
           "gridcolor": "white",
           "linecolor": "white",
           "ticks": "",
           "title": {
            "standoff": 15
           },
           "zerolinecolor": "white",
           "zerolinewidth": 2
          }
         }
        },
        "title": {
         "text": "3D Chroma Vector Store Visualization"
        },
        "width": 900
       }
      },
      "image/png": "[encoded data removed]"
     },
     "metadata": {},
     "output_type": "display_data"
    }
   ],
   "source": [
    "# Let's try 3D!\n",
    "\n",
    "tsne = TSNE(n_components=3, random_state=42)\n",
    "reduced_vectors = tsne.fit_transform(vectors)\n",
    "\n",
    "# Create the 3D scatter plot\n",
    "fig = go.Figure(data=[go.Scatter3d(\n",
    "    x=reduced_vectors[:, 0],\n",
    "    y=reduced_vectors[:, 1],\n",
    "    z=reduced_vectors[:, 2],\n",
    "    mode='markers',\n",
    "    marker=dict(size=5, color=colors, opacity=0.8),\n",
    "    text=[f\"Type: {t}<br>Text: {d[:100]}...\" for t, d in zip(doc_types, documents)],\n",
    "    hoverinfo='text'\n",
    ")])\n",
    "\n",
    "fig.update_layout(\n",
    "    title='3D Chroma Vector Store Visualization',\n",
    "    scene=dict(xaxis_title='x', yaxis_title='y', zaxis_title='z'),\n",
    "    width=900,\n",
    "    height=700,\n",
    "    margin=dict(r=20, b=10, l=10, t=40)\n",
    ")\n",
    "\n",
    "fig.show()"
   ]
  },
  {
   "cell_type": "markdown",
   "id": "67244055-4aed-4679-96e3-3e74165df56b",
   "metadata": {},
   "source": [
    "## Implement the assistant using LangChain"
   ]
  },
  {
   "cell_type": "markdown",
   "id": "27d22abc-583d-4462-b125-e139bb33b905",
   "metadata": {},
   "source": [
    "**Important**\\\n",
    "You will get a LangChainDeprecationWarning when runing the next cell about the simple way we use LangChain memory."
   ]
  },
  {
   "cell_type": "code",
   "execution_count": 21,
   "id": "7a308290-00e1-4d46-9524-872909b7a3b6",
   "metadata": {},
   "outputs": [],
   "source": [
    "# create a new Chat with OpenAI\n",
    "llm = ChatOpenAI(temperature=0.7, model_name=MODEL)\n",
    "\n",
    "# set up the conversation memory for the chat\n",
    "memory = ConversationBufferMemory(memory_key='chat_history', return_messages=True)\n",
    "\n",
    "# the retriever is an abstraction over the VectorStore that will be used during RAG, k is how many chunks to use. \n",
    "# The number k is important to get a relevent informations\n",
    "retriever = vectorstore.as_retriever(search_kwargs={\"k\": 20})\n",
    "\n",
    "# putting it together: set up the conversation chain with the GPT 3.5 LLM, the vector store and memory\n",
    "# The argument callbacks=[StdOutCallbackHandler()] is used to display in the console (stdout) what is happening behind the scenes when the model is called.\n",
    "conversation_chain = ConversationalRetrievalChain.from_llm(llm=llm, retriever=retriever, memory=memory, callbacks=[StdOutCallbackHandler()])"
   ]
  },
  {
   "cell_type": "code",
   "execution_count": 22,
   "id": "438a992b-50eb-4015-8acd-7db85735c20c",
   "metadata": {},
   "outputs": [
    {
     "name": "stdout",
     "output_type": "stream",
     "text": [
      "\n",
      "\n",
      "> Entering new ConversationalRetrievalChain chain...\n",
      "\n",
      "\n",
      "> Entering new StuffDocumentsChain chain...\n",
      "\n",
      "\n",
      "> Entering new LLMChain chain...\n",
      "Prompt after formatting:\n",
      "System: Use the following pieces of context to answer the user's question. \n",
      "If you don't know the answer, just say that you don't know, don't try to make up an answer.\n",
      "----------------\n",
      "# Hi there, I'm Hippolyte SODJINOU! 👋\n",
      "\n",
      "Welcome to my GitHub profile!\n",
      "## 🔧 Technologies & Tools\n",
      "\n",
      "- **Languages:** Python, R, C, SQL, HTML, Stata, Latex\n",
      "- **Frameworks & Libraries:**  R libraries, Shiny, Numpy, Pandas, Matplotlib, Streamlit, Dash, Tkinter, Scikit-learn, TensorFlow, Keras, PyTorch, XGBoost, LightGBM, CatBoost ...\n",
      "- **Databases:** MySQL, PostgreSQL, NoSQL, Microsoft SQL Server\n",
      "- **Platforms:** Hugging Face, Anaconda, Kaggle,\n",
      " ABACUS.AI, Eurostat, IPUMS, Dataiku,\n",
      "- **Tools:**  VS Code, JupyterLab (Anaconda),\n",
      " Google Colab, R Studio, Power BI,\n",
      " StataNow 18 MP, Pack Office, Git, Cursor, Gradio.\n",
      "- **Others:** RESTful APIs, Microservices, Data analysis, Statistical modeling, Machine Learning, Spatial Analysis\n",
      "\n",
      "## 🌱 Currently Learning\n",
      "\n",
      "- Development of the AI agent\n",
      "  \n",
      "\n",
      "## 📈 GitHub Stats\n",
      "\n",
      "![Hippolyte90's GitHub stats](https://github-readme-stats.vercel.app/api?username=Hippolyte90&show_icons=true&theme=radical)\n",
      "\n",
      "## 📫 How to Reach Me\n",
      "\n",
      "- Development of the AI agent\n",
      "  \n",
      "\n",
      "## 📈 GitHub Stats\n",
      "\n",
      "![Hippolyte90's GitHub stats](https://github-readme-stats.vercel.app/api?username=Hippolyte90&show_icons=true&theme=radical)\n",
      "\n",
      "## 📫 How to Reach Me\n",
      "\n",
      "- **Email:** [sodjinouhippolyte@gmail.com](mailto:sodjinouhippolyte@gmail.com)\n",
      "- **LinkedIn:** [Hippolyte Sodjinou](https://www.linkedin.com/in/hippolyte-sodjinou-639850245/)\n",
      "\n",
      "## 📝 Blog\n",
      "\n",
      "\n",
      "## 💬 Let's Connect!\n",
      "\n",
      "Feel free to reach out if you'd like to collaborate on a project, need help with something, or just want to say hi!\n",
      "\n",
      "Thanks for visiting my profile! Have a great day! 😊\n",
      "\n",
      "# Profil LinkedIn\n",
      "## Nom: SODJINOU\n",
      "## Prénoms: Setondji Hippolyte\n",
      "\n",
      "**Etudiant en Master Econométrie, statistiques et en Magistère,\n",
      " Economie, Data Science et Finance || Business Data Scientist\n",
      " || Recherche d'une alternance en Data Science (12 mois) pour\n",
      " septembre**\n",
      "\n",
      " Aix-en-Provence, Provence-Alpes-Côte d’Azur, France\n",
      "\n",
      "# Pitch\n",
      "\n",
      "Bonjour,\n",
      "\n",
      "Je m’appelle Sètondji Hippolyte SODJINOU. Je suis étudiant en Master 1 Économétrie et Statistiques, ainsi qu’en Magistère Économie, Data Science et Finance à l’Aix-Marseille School of Economics.\n",
      "\n",
      "Je souhaite effectuer mon alternance en data science dans le cadre du Master 2 Économétrie et Data Science, à partir de septembre prochain, afin de confirmer mon projet professionnel : devenir Data Scientist.\n",
      "\n",
      "Alors, que puis-je vous apporter pendant cette alternance ?\n",
      "\n",
      "Tout d’abord, ma rigueur. Je me suis toujours investi dans mes études avec beaucoup de sérieux et d’assiduité, ce qui m’a permis d’obtenir de bons résultats académiques. Je mets également cette rigueur au service des collégiens que j’accompagne en mathématiques depuis huit (08) mois.\n",
      "\n",
      "Ensuite, mon esprit critique et d’analyse, que j’ai développé en tant que membre du Conseil Exécutif du Cadre de Concertation des Classes Préparatoires (3CPI), en donnant mon avis sur les nouveaux règlements à appliquer aux étudiants des classes préparatoires.\n",
      "\n",
      "Mais aussi, ma créativité. Je l’ai mise au service du club d’informatique de l’Institut de Mathématiques et de Sciences Physiques, au Bénin, en développant un jeu de tirage au sort en langage C.\n",
      "\n",
      "Une dernière chose : je possède également une très bonne capacité d’adaptation. J’ai en effet osé quitter le Bénin il y a neuf (09) mois et je me sens déjà pleinement intégré dans ma nouvelle vie en France, tant à l’université que dans mes activités de bénévolat, notamment comme enseignant de mathématiques ou conseiller en orientation scolaire.\n",
      "\n",
      "Je suis quelqu’un qui aime innover et oser. D’ailleurs, voici ma devise :\n",
      "« Le succès appartient à ceux qui osent aller plus loin. »\n",
      "\n",
      "N’hésitez pas à me contacter, voici mes coordonnées !\n",
      "\n",
      "IMSP | Institut de Mathématiques et de Sciences Physiques\n",
      " Licence, Mathématiques et informatique · (octobre 2022 - août 2023)\n",
      "\n",
      "\n",
      " IMSP | Institut de Mathématiques et de Sciences Physiques\n",
      " Classes préparatoires aux grandes écoles (CPGE), MPSI · (octobre\n",
      " 2020 - juillet 2022\n",
      "\n",
      "\n",
      "## Atouts\n",
      "\n",
      "Rigueur, Curiosité, Travail en équipe, Esprit critique et d’analyse, Autonomie, Ecoute.\n",
      "\n",
      "\n",
      "## Certifications\n",
      "\n",
      " - Apprendre l'analyse des données : 1\n",
      " Fondements\n",
      " - Prompt engineering pour la\n",
      " génération de contenu avec l'IA\n",
      " - Préparer votre carrière dans l'IA\n",
      " générative par Microsoft et LinkedIn\n",
      " - Dataiku pour le machine learning\n",
      " - Les fondements de la finance\n",
      "\n",
      "## Bénévolat\n",
      "Tuteur de mathématiques\n",
      "Académie d'Aix-MarseilleAcadémie d'Aix-Marseille\n",
      "nov. 2024 - aujourd’hui · 8 mois\n",
      "\n",
      "Aix-en-Provence, Provence-Alpes-Côte d’Azur, France\n",
      "\n",
      " **Résumé**\n",
      " Étudiant en Master 1 Économétrie, Statistiques et Magistère\n",
      " Économie, Data Science et Finance à Aix-Marseille Schools of\n",
      " Economics, je suis passionné par l'analyse de données et la finance.\n",
      " Mon parcours académique et mes expériences, notamment en tant\n",
      " que tuteur en mathématiques et membre du Conseil Exécutif du\n",
      " Cadre de Concertation des Classes Préparatoires, témoignent de\n",
      " ma rigueur, de mon esprit critique et de ma créativité. Originaire\n",
      " du Bénin, j'ai su m'adapter rapidement à la vie en France, où je\n",
      " m'investis également dans des activités de bénévolat. Mon objectif\n",
      " est de devenir Data Scientist, convaincu que le succès appartient à\n",
      " ceux qui osent aller plus loin.\n",
      "\n",
      "## Compétences principales\n",
      "R • SQL • Python (langage de programmation) • Microsoft Power BI • Machine learning\n",
      "\n",
      "# Publications importantes\n",
      "\n",
      "##🚀 Automatisation + Intelligence Artificielle = Combo gagnant ! 🤖✨\n",
      "\n",
      "Vous connaissez n8n ? C’est comme un chef d’orchestre pour vos workflows : il connecte toutes vos applis préférées sans coder (ou presque).\n",
      "\n",
      " Et puis, il y a Agent AI, la cerise sur le gâteau, qui ajoute une couche d’intelligence pour rendre vos automatisations vraiment futées.\n",
      "\n",
      "Imaginez :\n",
      " 🔄 n8n orchestre vos tâches répétitives,\n",
      " 🧠 Agent AI comprend, apprend et optimise en temps réel.\n",
      "\n",
      "Le résultat ? Plus de temps pour innover, moins de temps à cliquer frénétiquement.\n",
      "\n",
      " C’est un peu comme avoir un assistant personnel qui ne dort jamais (et qui ne boit pas votre café ☕).\n",
      "\n",
      "Alors, prêt à booster votre productivité avec cette dream team ? 💥\n",
      "\n",
      "hashtag#Automation hashtag#n8n hashtag#AgentAI hashtag#Productivité hashtag#TechInnovante hashtag#WorkflowMagic\n",
      "\n",
      "\n",
      "## 🚀📊 Interactive Election Polling Analysis 📈🗳️\n",
      "\n",
      "<strong>Compétences développées</strong>\n",
      "\n",
      "Ce travail a permis de renforcer les compétences en analyse statistique, tests économétriques, modélisation de séries temporelles (modèle ARIMA), ainsi qu’en interprétation des résultats financiers.\n",
      "</body>\n",
      "</html>\n",
      "\n",
      "## Data Visualisation: US-Demography and Italy's 2022 Heatwave\n",
      "Working as a team of three data scientists, we delivered a two‑part analytics project that takes raw public data all the way to interactive insights:\n",
      "\n",
      "1️⃣ U.S. County Demography Explorer\n",
      "Data : NHGIS population series (2000 & 2010) for 3,100 counties.\n",
      "\n",
      "What we built : automated R pipeline (tidyverse + sf) that cleans, joins shapefiles, and feeds a Shiny + Leaflet dashboard. Users click any county to see real‑time race break‑downs—and instantly verify census numbers such as Los Angeles County’s 9.8 M residents.\n",
      "\n",
      "2️⃣ Climate‑Health Impact for Italy, Summer 2022\n",
      "Data : ERA5 land temperatures (2015‑2023) + World Mortality Dataset.\n",
      "\n",
      "## Compétences principales\n",
      "R • SQL • Python (langage de programmation) • Microsoft Power BI • Machine learning\n",
      "\n",
      " ## Expérience\n",
      " ## upwork\n",
      " **Data Scientist | Python, R, Machine Learning, Interactive Dashboards \n",
      "mai 2025 - Present (2 mois)**\n",
      " Marseille, Provence-Alpes-Côte d’Azur, France\n",
      " ✅ Comprehensive support for your Python, R, Machine Learning, and Data\n",
      " Science projects (from ideation to completion)\n",
      " ✅ Creation of interactive dashboards and data visualizations with Shiny (R),\n",
      " Streamlit, or Dash (Python)\n",
      " ✅ Clear and accessible explanations of concepts, algorithms, and best\n",
      " practices\n",
      " ✅ Review, correction, and optimization of your code, reports, and interactive\n",
      " interfaces\n",
      " ✅ Training or tutoring sessions tailored to your level (beginner to advanced)\n",
      " ✅ Methodological advice to structure and showcase your work\n",
      "\n",
      "\n",
      " ## Freelance\n",
      " ## Rédaction web \n",
      "\n",
      "juillet 2021 - mars 2025 (3 ans 9 mois)\n",
      "\n",
      "## Société BCEF Ingénierie & Informatique Sarl \n",
      "**Stagiaire en Statistique, Base de données et Probabilités**\n",
      " août 2024 - août 2024 (1 mois)\n",
      " Burkina Faso\n",
      "\n",
      "- Conception d'un notebook sur le Machine Learning, facilitant l'exploration des algorithmes d'apprentissage. \n",
      "- Collecte et traitement de données provenant d'un sondage multisite sur les besoins environnementaux, permettant une analyse approfondie.\n",
      "\n",
      "\n",
      " ## Formation\n",
      " Aix-Marseille Université (AMU), Aix-Marseille School of Economics (AMSE)\n",
      " Master 1 (M1), Econometrics and statistics  · (septembre 2024)\n",
      "\n",
      " Aix-Marseille Université (AMU), Aix-Marseille School of Economics (AMSE)\n",
      " DESU, Magistere Economie, Data Science et Finance  · (septembre 2024)\n",
      "\n",
      "IMSP | Institut de Mathématiques et de Sciences Physiques\n",
      "\n",
      "Master 1 (M1), Statistiques mathématiques et probabilités · (octobre\n",
      " 2023 - août 2024)\n",
      "\n",
      " IMSP | Institut de Mathématiques et de Sciences Physiques\n",
      " Licence, Mathématiques et informatique · (octobre 2022 - août 2023)\n",
      "\n",
      "Je suis rédacteur web SEO spécialisé dans la création de contenus optimisés\n",
      " pour le référencement sur Internet.\n",
      " Grâce à mes compétences en rédaction, je suis en mesure de produire des\n",
      " contenus de haute qualité qui captent l'attention des visiteurs et les incitent à\n",
      " devenir des acheteurs sur votre site web. Que ce soit des fiches produits, des\n",
      " articles de blog, des descriptions de produits, des e-mails ou des newsletters,\n",
      " je suis capable de les rédiger de manière convaincante et persuasive.\n",
      " Mon expérience professionnelle en tant que rédacteur web freelance m'a\n",
      " permis de travailler avec divers clients sur des plateformes renommées telles\n",
      " que Upwork, Fiverr et Comeup. J'ai acquis une solide expérience dans la\n",
      " rédaction de contenus pour des entreprises de différents secteurs, ce qui\n",
      " m'a permis de développer une compréhension approfondie des stratégies de\n",
      " marketing en ligne et du référencement.\n",
      " Je suis passionné par mon travail et je m'efforce constamment de fournir\n",
      " des contenus qui répondent aux attentes de mes clients. Je suis ouvert à la\n",
      " collaboration et je peux m'adapter facilement aux exigences spécifiques de\n",
      " chaque projet. De plus, je suis prêt à publier gratuitement les contenus que je\n",
      " rédige sur les sites de mes clients, si tel est leur souhait.\n",
      " En résumé, en faisant appel à mes services de rédaction web SEO, vous\n",
      " pouvez vous attendre à des contenus optimisés qui génèrent du trafic et\n",
      " convertissent les visiteurs en acheteurs. Mon expérience, ma passion pour la\n",
      " rédaction et ma capacité à m'adapter font de moi un rédacteur compétent et\n",
      " fiable pour vos besoins en contenu en ligne.\n",
      "\n",
      "## Sécurité\n",
      "\n",
      "- Ne partagez jamais votre fichier `.env`\n",
      "- Ne committez pas vos identifiants dans le code\n",
      "- Utilisez des mots de passe forts\n",
      "- Gardez vos clés API secrètes\n",
      "\n",
      "## Contribution\n",
      "\n",
      "Les contributions sont les bienvenues ! N'hésitez pas à :\n",
      "- Ouvrir une issue pour signaler un bug\n",
      "- Proposer une pull request pour une amélioration\n",
      "- Partager vos idées d'évolution\n",
      "\n",
      "## Licence\n",
      "\n",
      "MIT\n",
      "\n",
      "## Données utilisées\n",
      "Les données utilisées sont les séries temporelles des rendements des trois ETF mentionnés, cotés sur Euronext Paris. Ces ETF couvrent différents marchés : actions mondiales (CW8), actions indiennes (CI2) et immobilier coté européen (EPRE). Les données incluent les valeurs historiques des prix, les rendements géométriques, ainsi que des informations sur la volatilité et la corrélation entre ces actifs. Les données proviennent de sources telles qu’Amundi.fr et Yahoo Finance.\n",
      "\n",
      "## Data Sampling and Data Communication\n",
      "This project aims to analyze electoral polls and their results to evaluate their accuracy and understand the challenges they present, particularly in the context of far-right candidates. It consists of three main parts: a theoretical analysis of polls and their methodologies, a data analysis with visualizations to assess poll accuracy, and an interpretation of the results with recommendations to improve their precision. The expected deliverable includes a concise written report and up to three graphs illustrating the key findings.\n",
      "\n",
      "## Consommation de carburants en France, l'année 2023\n",
      "\n",
      "<!DOCTYPE html>\n",
      "<html lang=\"en\">\n",
      "<body>\n",
      "    <div class=\"container\">\n",
      "        <h1>📊 Analyse empirique des ETF (ARIMA) - Finance 2024-2025</h1>\n",
      "<strong>Contexte et objectif du projet</strong>\n",
      "        \n",
      "Ce projet s’inscrit dans le domaine de la finance empirique et vise à analyser les propriétés statistiques et économétriques des fonds négociés en bourse (ETF). L’objectif principal est de comprendre la dynamique des rendements de plusieurs ETF, d’évaluer leurs caractéristiques statistiques, et d’appliquer des modèles économétriques pour mieux appréhender leur comportement temporel.\n",
      "\n",
      "<strong>Données utilisées</strong>\n",
      "\n",
      "Les données utilisées sont des séries temporelles quotidiennes des prix de trois ETF : Amundi Index MSCI Emerging Markets UCITS ETF DR (AEME.PA), Amundi MSCI Europe Growth UCITS ETF Acc (CG9.PA), et Amundi MSCI Europe Value Factor UCITS ETF-C (CV9.PA). Ces données couvrent une période allant de 2017 à fin 2024.\n",
      "\n",
      "<strong>Méthodologie et outils</strong>\n",
      "\n",
      "## Analyse des relations entre deux variables via des données Eurostat un projet en R\n",
      "\n",
      "Ce projet académique consiste à analyser la relation entre deux variables (autres que le PIB et la satisfaction de vie) issues des données Eurostat. Il est structuré en quatre étapes principales : téléchargement et importation des données en R, nettoyage et fusion des ensembles de données, création de statistiques descriptives illustrées par des graphiques et tableaux, et enfin modélisation statistique (régression linéaire et non linéaire) pour examiner la relation entre les deux variables. Le travail finalisé doit être présenté dans un document PDF avec des visualisations pertinentes et des résultats d'analyse, sans inclure le code R ni les données brutes.\n",
      "\n",
      "## Predicting high site traffic\n",
      "\n",
      "<strong>Méthodologie et outils</strong>\n",
      "\n",
      "L’analyse débute par des statistiques descriptives des rendements géométriques, accompagnées de tests de normalité (Jarque-Bera) et d’analyse des corrélations. Des tests de stationnarité (ADF, KPSS) sont ensuite appliqués pour vérifier les propriétés des séries temporelles. La modélisation économétrique est réalisée via des modèles ARIMA pour capturer les dynamiques des rendements. Enfin, un test de cointégration d’Engle et Granger est effectué pour étudier les relations de long terme entre les ETF. Les analyses ont été conduites à l’aide de Gretl.\n",
      "\n",
      "<strong>Principaux résultats</strong>\n",
      "\n",
      "## Consommation de carburants en France, l'année 2023\n",
      "\n",
      "Ce projet vise à analyser les prix des carburants en France pour l'année 2023 en utilisant Python. Il comprend plusieurs étapes clés : la collecte de données depuis une source prédéfinie, leur préparation via des transformations spécifiques comme l'extraction des dates ou la création d'indices de prix, ainsi que la visualisation des tendances hebdomadaires à l'aide de bibliothèques comme Matplotlib ou Seaborn. En bonus, il propose de cartographier les prix moyens par département. Enfin, le projet inclut la modélisation pour prévoir les prix futurs des carburants, en se concentrant davantage sur la méthodologie que sur l'optimisation du modèle. Le livrable attendu est un notebook Python bien documenté intégrant toutes ces étapes.\n",
      "\n",
      "## Web Scraping and Interactive Dashboard\n",
      "\n",
      "## Sécurité\n",
      "\n",
      "- Ne partagez jamais votre fichier `.env`\n",
      "- Ne committez pas vos identifiants dans le code\n",
      "- Utilisez des mots de passe forts\n",
      "- Gardez vos clés API secrètes\n",
      "\n",
      "## Contribution\n",
      "\n",
      "Les contributions sont les bienvenues ! N'hésitez pas à :\n",
      "- Ouvrir une issue pour signaler un bug\n",
      "- Proposer une pull request pour une amélioration\n",
      "- Partager vos idées d'évolution\n",
      "\n",
      "## Licence\n",
      "\n",
      "MIT \n",
      "\n",
      "## Agent LinkedIn : Génération et Sauvegarde avec Google Docs\n",
      "\n",
      "Cet agent intelligent automatise la création de posts LinkedIn en utilisant l'IA pour générer du contenu pertinent et engageant, et les sauvegarde automatiquement dans Google Docs. Il inclut également la possibilité d'une publication assistée sur LinkedIn.\n",
      "\n",
      "## Fonctionnalités\n",
      "Human: Who is Hippoyte ?\n",
      "\n",
      "> Finished chain.\n",
      "\n",
      "> Finished chain.\n",
      "\n",
      "> Finished chain.\n",
      "Hippolyte SODJINOU is a student in Master 1 Econometrics, Statistics, and a Magister in Economics, Data Science, and Finance at the Aix-Marseille School of Economics. He is seeking a 12-month internship in Data Science starting in September. Hippolyte has skills in various programming languages, frameworks, databases, and tools related to data science and machine learning. He values rigor, critical thinking, creativity, and adaptability. Additionally, he has experience in tutoring mathematics and has been involved in several data science projects.\n"
     ]
    }
   ],
   "source": [
    "# Try a simple question\n",
    "\n",
    "ask = \"Who is Hippoyte ?\"\n",
    "result = conversation_chain.invoke({\"question\": ask})\n",
    "print(result[\"answer\"])"
   ]
  },
  {
   "cell_type": "code",
   "execution_count": 25,
   "id": "2e0ba15e-e5f5-40a1-858a-ff16a14e4079",
   "metadata": {},
   "outputs": [],
   "source": [
    "# set up a new conversation memory for the chat\n",
    "memory = ConversationBufferMemory(memory_key='chat_history', return_messages=True)\n",
    "\n",
    "# putting it together: set up the conversation chain with the GPT 4o-mini LLM, the vector store and memory\n",
    "conversation_chain = ConversationalRetrievalChain.from_llm(llm=llm, retriever=retriever, memory=memory)"
   ]
  },
  {
   "cell_type": "markdown",
   "id": "11338d64-ef5c-458c-babd-4feee4d46f05",
   "metadata": {},
   "source": [
    "## Gradio Interface \n",
    "\n",
    "We can also use streamlit instead."
   ]
  },
  {
   "cell_type": "code",
   "execution_count": 26,
   "id": "b24bc79f-e0ca-4bff-a7de-d88cad549b82",
   "metadata": {},
   "outputs": [],
   "source": [
    "# Wrapping that in a function\n",
    "# Note that the history offered by the Gradio interface is not used because we utilize the memory provided by LangChain Expression Language (LCL);\n",
    "def chat(question, history):\n",
    "    result = conversation_chain.invoke({\"question\": question})\n",
    "    return result[\"answer\"]"
   ]
  },
  {
   "cell_type": "code",
   "execution_count": 27,
   "id": "d4bb9cd1-5b89-4dcc-82e3-9477add9b8bf",
   "metadata": {},
   "outputs": [
    {
     "name": "stdout",
     "output_type": "stream",
     "text": [
      "* Running on local URL:  http://127.0.0.1:7874\n",
      "* To create a public link, set `share=True` in `launch()`.\n"
     ]
    },
    {
     "data": {
      "text/html": [
       "<div><iframe src=\"http://127.0.0.1:7874/\" width=\"100%\" height=\"500\" allow=\"autoplay; camera; microphone; clipboard-read; clipboard-write;\" frameborder=\"0\" allowfullscreen></iframe></div>"
      ],
      "text/plain": [
       "<IPython.core.display.HTML object>"
      ]
     },
     "metadata": {},
     "output_type": "display_data"
    }
   ],
   "source": [
    "view = gr.ChatInterface(chat, type=\"messages\").launch(inbrowser=True)"
   ]
  }
 ],
 "metadata": {
  "kernelspec": {
   "display_name": "Python 3 (ipykernel)",
   "language": "python",
   "name": "python3"
  },
  "language_info": {
   "codemirror_mode": {
    "name": "ipython",
    "version": 3
   },
   "file_extension": ".py",
   "mimetype": "text/x-python",
   "name": "python",
   "nbconvert_exporter": "python",
   "pygments_lexer": "ipython3",
   "version": "3.11.12"
  }
 },
 "nbformat": 4,
 "nbformat_minor": 5
}
