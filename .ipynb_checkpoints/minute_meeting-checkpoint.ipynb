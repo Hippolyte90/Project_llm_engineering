{
 "cells": [
  {
   "cell_type": "markdown",
   "id": "02b02b08-4c56-437e-a630-2dd1e82525b6",
   "metadata": {},
   "source": [
    "# Minute meeting using frontier models and open source models"
   ]
  },
  {
   "cell_type": "markdown",
   "id": "e3fc9476-f0dc-465a-bd90-1cf79183f84e",
   "metadata": {},
   "source": [
    "This project is completed on Google Colab to utilize the GPU provided by Google Cloud and to access Hugging Face's open-source models using a Hugging Face Token.\\\n",
    "https://colab.research.google.com/drive/1n4RBZ8sQe78-ZxkXst6gL8F1hiqnnFqy#scrollTo=kPquuYdiiYJM"
   ]
  },
  {
   "cell_type": "markdown",
   "id": "3e5bed7d-fd4d-48c6-98cb-11af6a62062c",
   "metadata": {},
   "source": [
    "Before starting to run, you need to set the Hugging Face Token, OPENAI API, and GROQ API if you are using them. If you are not using these, you can replace them with your own model API."
   ]
  }
 ],
 "metadata": {
  "kernelspec": {
   "display_name": "Python 3 (ipykernel)",
   "language": "python",
   "name": "python3"
  },
  "language_info": {
   "codemirror_mode": {
    "name": "ipython",
    "version": 3
   },
   "file_extension": ".py",
   "mimetype": "text/x-python",
   "name": "python",
   "nbconvert_exporter": "python",
   "pygments_lexer": "ipython3",
   "version": "3.11.12"
  }
 },
 "nbformat": 4,
 "nbformat_minor": 5
}
